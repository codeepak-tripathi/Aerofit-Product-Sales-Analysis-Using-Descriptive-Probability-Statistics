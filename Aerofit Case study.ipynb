{
 "cells": [
  {
   "cell_type": "markdown",
   "id": "f7555b80",
   "metadata": {},
   "source": [
    "# AeroFit Business Case Study"
   ]
  },
  {
   "cell_type": "markdown",
   "id": "0b3d9777",
   "metadata": {},
   "source": [
    "##### Business Problem\n",
    "\n",
    "The market research team at AeroFit wants to identify the characteristics of the target audience for each type of\n",
    "treadmill offered by the company, to provide a better recommendation of the treadmills to the new customers. The team\n",
    "decides to investigate whether there are differences across the product with respect to customer characteristics.\n",
    "\n",
    "Perform descriptive analytics to create a customer profile for each AeroFit treadmill product by developing\n",
    "appropriate tables and charts. For each AeroFit treadmill product, construct two-way contingency tables and compute\n",
    "all conditional and marginal probabilities along with their insights/impact on the business."
   ]
  },
  {
   "cell_type": "markdown",
   "id": "013067dd",
   "metadata": {},
   "source": [
    "### Importing libraries"
   ]
  },
  {
   "cell_type": "code",
   "execution_count": 51,
   "id": "2dbcfbfc",
   "metadata": {},
   "outputs": [],
   "source": [
    "import pandas as pd\n",
    "import numpy as np\n",
    "import random\n",
    "import matplotlib.pyplot as plt\n",
    "from matplotlib.pyplot import figure\n",
    "import seaborn as sns\n",
    "import warnings\n",
    "\n",
    "warnings.simplefilter(action='ignore', category=FutureWarning)"
   ]
  },
  {
   "cell_type": "markdown",
   "id": "ff6396d8",
   "metadata": {},
   "source": [
    "#### Bar plot formate"
   ]
  },
  {
   "cell_type": "code",
   "execution_count": 52,
   "id": "2b144ade",
   "metadata": {},
   "outputs": [],
   "source": [
    "def show_values_on_bars(axs, h_v=\"v\", space=1):\n",
    "    def _show_on_single_plot(ax):\n",
    "        if h_v == \"v\":\n",
    "            for p in ax.patches:\n",
    "                _x = p.get_x() + p.get_width() / 2\n",
    "                _y = p.get_y() + p.get_height()\n",
    "                value = int(p.get_height())\n",
    "                ax.text(_x, _y, value, ha=\"center\")\n",
    "        elif h_v == \"h\":\n",
    "            for p in ax.patches:\n",
    "                _x = p.get_x() + p.get_width() + float(space)\n",
    "                _y = p.get_y() + p.get_height()\n",
    "                value = int(p.get_width())\n",
    "                ax.text(_x, _y, value, ha=\"left\")\n",
    "\n",
    "    if isinstance(axs, np.ndarray):\n",
    "        for idx, ax in np.ndenumerate(axs):\n",
    "            _show_on_single_plot(ax)\n",
    "    else:\n",
    "        _show_on_single_plot(axs)"
   ]
  },
  {
   "cell_type": "markdown",
   "id": "357e5967",
   "metadata": {},
   "source": [
    "### Reading file and preparing window"
   ]
  },
  {
   "cell_type": "code",
   "execution_count": 53,
   "id": "7b4f646d",
   "metadata": {},
   "outputs": [],
   "source": [
    "df = pd.read_csv('Aerofit_treadmill.csv')\n",
    "pd.set_option('display.width', 1000)\n",
    "pd.set_option('display.max_columns', 120)\n",
    "pd.set_option('display.max_row', 4000)\n"
   ]
  },
  {
   "cell_type": "markdown",
   "id": "baf03dbd",
   "metadata": {},
   "source": [
    "### Data parameters\n",
    "\n",
    "* Product Purchased : KP281, KP481, or KP781\n",
    "* Age : In years\n",
    "* Gender : Male/Female\n",
    "* Education : In years\n",
    "* MaritalStatus : Single or partnered\n",
    "* Usage : The average number of times the customer plans to use the treadmill each week.\n",
    "* Income : Annual income (in USD)\n",
    "* Fitness : Self-rated fitness on a 1-to-5 scale, where 1 is the poor shape and 5 is the excellent shape.\n",
    "* Miles : The average number of miles the customer expects to walk/run each week\n"
   ]
  },
  {
   "cell_type": "markdown",
   "id": "11de9fbc",
   "metadata": {},
   "source": [
    "### getting starter information\n",
    "\n",
    "* data shape\n",
    "* data info\n",
    "* data head\n",
    "* data tail\n",
    "* missing values\n",
    "* data description\n",
    "* check duplicates\n",
    "* drop duplicates\n",
    "* drop unnecessary columns\n"
   ]
  },
  {
   "cell_type": "code",
   "execution_count": 54,
   "id": "400865c7",
   "metadata": {},
   "outputs": [
    {
     "name": "stdout",
     "output_type": "stream",
     "text": [
      "Aerofit case study, shape is (180, 9)\n",
      "\n",
      "\n",
      "Aerofit case study basic information\n",
      "\n",
      "<class 'pandas.core.frame.DataFrame'>\n",
      "RangeIndex: 180 entries, 0 to 179\n",
      "Data columns (total 9 columns):\n",
      " #   Column         Non-Null Count  Dtype \n",
      "---  ------         --------------  ----- \n",
      " 0   Product        180 non-null    object\n",
      " 1   Age            180 non-null    int64 \n",
      " 2   Gender         180 non-null    object\n",
      " 3   Education      180 non-null    int64 \n",
      " 4   MaritalStatus  180 non-null    object\n",
      " 5   Usage          180 non-null    int64 \n",
      " 6   Fitness        180 non-null    int64 \n",
      " 7   Income         180 non-null    int64 \n",
      " 8   Miles          180 non-null    int64 \n",
      "dtypes: int64(6), object(3)\n",
      "memory usage: 12.8+ KB\n",
      "None\n",
      "\n",
      "\n",
      "Aerofit case study Null value count percentage:\n",
      "\n",
      "Product          0.0\n",
      "Age              0.0\n",
      "Gender           0.0\n",
      "Education        0.0\n",
      "MaritalStatus    0.0\n",
      "Usage            0.0\n",
      "Fitness          0.0\n",
      "Income           0.0\n",
      "Miles            0.0\n",
      "dtype: float64\n",
      "\n",
      "\n",
      "Aerofit case study Description:\n",
      "\n",
      "              Age   Education       Usage     Fitness         Income       Miles\n",
      "count  180.000000  180.000000  180.000000  180.000000     180.000000  180.000000\n",
      "mean    28.788889   15.572222    3.455556    3.311111   53719.577778  103.194444\n",
      "std      6.943498    1.617055    1.084797    0.958869   16506.684226   51.863605\n",
      "min     18.000000   12.000000    2.000000    1.000000   29562.000000   21.000000\n",
      "25%     24.000000   14.000000    3.000000    3.000000   44058.750000   66.000000\n",
      "50%     26.000000   16.000000    3.000000    3.000000   50596.500000   94.000000\n",
      "75%     33.000000   16.000000    4.000000    4.000000   58668.000000  114.750000\n",
      "max     50.000000   21.000000    7.000000    5.000000  104581.000000  360.000000\n",
      "\n",
      "\n",
      "Aerofit case study Deep Description:\n",
      "\n",
      "              count unique        top freq\n",
      "Product         180      3      KP281   80\n",
      "Gender          180      2       Male  104\n",
      "MaritalStatus   180      2  Partnered  107\n",
      "\n",
      "\n",
      "Aerofit case study Duplicate values:\n",
      "\n",
      "Empty DataFrame\n",
      "Columns: [Product, Age, Gender, Education, MaritalStatus, Usage, Fitness, Income, Miles]\n",
      "Index: []\n"
     ]
    }
   ],
   "source": [
    "cs_name = 'Aerofit case study'\n",
    "print(f'{cs_name}, shape is {df.shape}')\n",
    "print()\n",
    "print()\n",
    "print(f\"{cs_name} basic information\")\n",
    "print()\n",
    "print(df.info())\n",
    "print()\n",
    "print()\n",
    "print(f\"{cs_name} Null value count percentage:\")\n",
    "print()\n",
    "print(df.isnull().sum(axis=0) / len(df) * 100)\n",
    "print()\n",
    "print()\n",
    "print(f\"{cs_name} Description:\")\n",
    "print()\n",
    "print(df.describe())\n",
    "print()\n",
    "print()\n",
    "print(f\"{cs_name} Deep Description:\")\n",
    "print()\n",
    "print(df.describe(include='object').T)\n",
    "print()\n",
    "print()\n",
    "print(f\"{cs_name} Duplicate values:\")\n",
    "print()\n",
    "print(df.loc[df.duplicated()])"
   ]
  },
  {
   "cell_type": "markdown",
   "id": "e15a253d",
   "metadata": {},
   "source": [
    "### Preparing data (adding and modifying columns)"
   ]
  },
  {
   "cell_type": "code",
   "execution_count": null,
   "id": "ebeaa3d7",
   "metadata": {},
   "outputs": [],
   "source": []
  },
  {
   "cell_type": "markdown",
   "id": "9046bbe6",
   "metadata": {},
   "source": [
    "#### Product price according to the models\n",
    "\n",
    "Product Portfolio\n",
    "* The KP481 is for mid-level runners that sell for \\$ 1,750.\n",
    "* The KP281 is an entry-level treadmill that sells for \\$ 1,500.\n",
    "* The KP781 treadmill is having advanced features that sell for \\$ 2,500.\n"
   ]
  },
  {
   "cell_type": "code",
   "execution_count": 55,
   "id": "a113f4c9",
   "metadata": {
    "scrolled": true
   },
   "outputs": [
    {
     "data": {
      "text/html": [
       "<div>\n",
       "<style scoped>\n",
       "    .dataframe tbody tr th:only-of-type {\n",
       "        vertical-align: middle;\n",
       "    }\n",
       "\n",
       "    .dataframe tbody tr th {\n",
       "        vertical-align: top;\n",
       "    }\n",
       "\n",
       "    .dataframe thead th {\n",
       "        text-align: right;\n",
       "    }\n",
       "</style>\n",
       "<table border=\"1\" class=\"dataframe\">\n",
       "  <thead>\n",
       "    <tr style=\"text-align: right;\">\n",
       "      <th></th>\n",
       "      <th>Product</th>\n",
       "      <th>Product_price</th>\n",
       "    </tr>\n",
       "  </thead>\n",
       "  <tbody>\n",
       "    <tr>\n",
       "      <th>0</th>\n",
       "      <td>KP281</td>\n",
       "      <td>1500</td>\n",
       "    </tr>\n",
       "    <tr>\n",
       "      <th>1</th>\n",
       "      <td>KP481</td>\n",
       "      <td>1750</td>\n",
       "    </tr>\n",
       "    <tr>\n",
       "      <th>2</th>\n",
       "      <td>KP781</td>\n",
       "      <td>2500</td>\n",
       "    </tr>\n",
       "  </tbody>\n",
       "</table>\n",
       "</div>"
      ],
      "text/plain": [
       "  Product  Product_price\n",
       "0   KP281           1500\n",
       "1   KP481           1750\n",
       "2   KP781           2500"
      ]
     },
     "execution_count": 55,
     "metadata": {},
     "output_type": "execute_result"
    }
   ],
   "source": [
    "product_price = pd.DataFrame({\n",
    " \"Product\":[\"KP281\",\"KP481\",\"KP781\"],\n",
    " \"Product_price\":[1500,1750,2500]\n",
    " })\n",
    "\n",
    "product_price"
   ]
  },
  {
   "cell_type": "markdown",
   "id": "af670a30",
   "metadata": {},
   "source": [
    "#### merging product prices in AeroFit data"
   ]
  },
  {
   "cell_type": "code",
   "execution_count": 56,
   "id": "57767cf2",
   "metadata": {},
   "outputs": [],
   "source": [
    "df = df.merge(product_price, on=\"Product\", how=\"left\")"
   ]
  },
  {
   "cell_type": "markdown",
   "id": "c9ec5c87",
   "metadata": {},
   "source": [
    "#### fitness by category"
   ]
  },
  {
   "cell_type": "code",
   "execution_count": 57,
   "id": "e732f114",
   "metadata": {},
   "outputs": [],
   "source": [
    "df[\"Fitness_category\"] = df['Fitness']"
   ]
  },
  {
   "cell_type": "code",
   "execution_count": 58,
   "id": "bd29061b",
   "metadata": {},
   "outputs": [],
   "source": [
    "df[\"Fitness_category\"].replace({1:\"Poor Shape\",\n",
    " 5:\"Excellent Shape\",\n",
    "4:\"Good Shape\",\n",
    "3:\"Average Shape\",\n",
    "2:\"Bad Shape\"},inplace=True)"
   ]
  },
  {
   "cell_type": "markdown",
   "id": "0baf50ad",
   "metadata": {},
   "source": [
    "#### Miles per day of usage"
   ]
  },
  {
   "cell_type": "code",
   "execution_count": 59,
   "id": "15bf5048",
   "metadata": {},
   "outputs": [],
   "source": [
    "df['Miles per 1 use'] = df['Miles']/df['Usage']"
   ]
  },
  {
   "cell_type": "markdown",
   "id": "d0323c3f",
   "metadata": {},
   "source": [
    "### getting starter information after pre-processing the data\n",
    "\n",
    "* data shape\n",
    "* data info\n",
    "* data head\n",
    "* data tail\n",
    "* missing values\n",
    "* data description\n",
    "* check duplicates\n",
    "* drop duplicates\n",
    "* drop unnecessary columns\n"
   ]
  },
  {
   "cell_type": "code",
   "execution_count": 60,
   "id": "1382e268",
   "metadata": {},
   "outputs": [
    {
     "name": "stdout",
     "output_type": "stream",
     "text": [
      "Aerofit case study, shape is (180, 12)\n",
      "\n",
      "\n",
      "Aerofit case study basic information\n",
      "\n",
      "<class 'pandas.core.frame.DataFrame'>\n",
      "Int64Index: 180 entries, 0 to 179\n",
      "Data columns (total 12 columns):\n",
      " #   Column            Non-Null Count  Dtype  \n",
      "---  ------            --------------  -----  \n",
      " 0   Product           180 non-null    object \n",
      " 1   Age               180 non-null    int64  \n",
      " 2   Gender            180 non-null    object \n",
      " 3   Education         180 non-null    int64  \n",
      " 4   MaritalStatus     180 non-null    object \n",
      " 5   Usage             180 non-null    int64  \n",
      " 6   Fitness           180 non-null    int64  \n",
      " 7   Income            180 non-null    int64  \n",
      " 8   Miles             180 non-null    int64  \n",
      " 9   Product_price     180 non-null    int64  \n",
      " 10  Fitness_category  180 non-null    object \n",
      " 11  Miles per 1 use   180 non-null    float64\n",
      "dtypes: float64(1), int64(7), object(4)\n",
      "memory usage: 18.3+ KB\n",
      "None\n",
      "\n",
      "\n",
      "Aerofit case study Null value count percentage:\n",
      "\n",
      "Product             0.0\n",
      "Age                 0.0\n",
      "Gender              0.0\n",
      "Education           0.0\n",
      "MaritalStatus       0.0\n",
      "Usage               0.0\n",
      "Fitness             0.0\n",
      "Income              0.0\n",
      "Miles               0.0\n",
      "Product_price       0.0\n",
      "Fitness_category    0.0\n",
      "Miles per 1 use     0.0\n",
      "dtype: float64\n",
      "\n",
      "\n",
      "Aerofit case study Description:\n",
      "\n",
      "              Age   Education       Usage     Fitness         Income       Miles  Product_price  Miles per 1 use\n",
      "count  180.000000  180.000000  180.000000  180.000000     180.000000  180.000000     180.000000       180.000000\n",
      "mean    28.788889   15.572222    3.455556    3.311111   53719.577778  103.194444    1805.555556        29.412341\n",
      "std      6.943498    1.617055    1.084797    0.958869   16506.684226   51.863605     387.978895         9.229772\n",
      "min     18.000000   12.000000    2.000000    1.000000   29562.000000   21.000000    1500.000000        10.500000\n",
      "25%     24.000000   14.000000    3.000000    3.000000   44058.750000   66.000000    1500.000000        23.500000\n",
      "50%     26.000000   16.000000    3.000000    3.000000   50596.500000   94.000000    1750.000000        28.333333\n",
      "75%     33.000000   16.000000    4.000000    4.000000   58668.000000  114.750000    1750.000000        33.000000\n",
      "max     50.000000   21.000000    7.000000    5.000000  104581.000000  360.000000    2500.000000        90.000000\n",
      "\n",
      "\n",
      "Aerofit case study Deep Description:\n",
      "\n",
      "                 count unique            top freq\n",
      "Product            180      3          KP281   80\n",
      "Gender             180      2           Male  104\n",
      "MaritalStatus      180      2      Partnered  107\n",
      "Fitness_category   180      5  Average Shape   97\n",
      "\n",
      "\n",
      "Aerofit case study Duplicate values:\n",
      "\n",
      "Empty DataFrame\n",
      "Columns: [Product, Age, Gender, Education, MaritalStatus, Usage, Fitness, Income, Miles, Product_price, Fitness_category, Miles per 1 use]\n",
      "Index: []\n"
     ]
    }
   ],
   "source": [
    "cs_name = 'Aerofit case study'\n",
    "print(f'{cs_name}, shape is {df.shape}')\n",
    "print()\n",
    "print()\n",
    "print(f\"{cs_name} basic information\")\n",
    "print()\n",
    "print(df.info())\n",
    "print()\n",
    "print()\n",
    "print(f\"{cs_name} Null value count percentage:\")\n",
    "print()\n",
    "print(df.isnull().sum(axis=0) / len(df) * 100)\n",
    "print()\n",
    "print()\n",
    "print(f\"{cs_name} Description:\")\n",
    "print()\n",
    "print(df.describe())\n",
    "print()\n",
    "print()\n",
    "print(f\"{cs_name} Deep Description:\")\n",
    "print()\n",
    "print(df.describe(include='object').T)\n",
    "print()\n",
    "print()\n",
    "print(f\"{cs_name} Duplicate values:\")\n",
    "print()\n",
    "print(df.loc[df.duplicated()])"
   ]
  },
  {
   "cell_type": "markdown",
   "id": "8097ff58",
   "metadata": {},
   "source": [
    "##### Observation:\n",
    "\n",
    "* Median Age of Customer is 26 years\n",
    "* Top selling product is KP281 with highest number of unites sold(80)\n",
    "* Maximum users are Married Men.\n",
    "* Average fitness level of the customers is 3\n",
    "* Average miles for give cutomers' is 94 Miles\n",
    "* Average income of the customers is \\$ 50596.5.\n",
    "* On an average, customers us the tredmill 3 days per week.\n",
    "* Highest mile covered in a single use by a customer is 90. (and after a deep analysis we found out, that its a Male customer)\n"
   ]
  },
  {
   "cell_type": "markdown",
   "id": "098dbe8a",
   "metadata": {},
   "source": [
    "## Customer Analysis"
   ]
  },
  {
   "cell_type": "markdown",
   "id": "d8f4e646",
   "metadata": {},
   "source": [
    "### Gender distribution of customers"
   ]
  },
  {
   "cell_type": "code",
   "execution_count": 61,
   "id": "f58f989a",
   "metadata": {
    "scrolled": true
   },
   "outputs": [
    {
     "data": {
      "image/png": "[encoded data removed]",
      "text/plain": [
       "<Figure size 720x360 with 1 Axes>"
      ]
     },
     "metadata": {},
     "output_type": "display_data"
    }
   ],
   "source": [
    "sns.set(font_scale = 1.1)\n",
    "plt.figure(figsize=(10,5))\n",
    "types = sns.countplot(data = df , x = \"Gender\") \n",
    "plt.xlabel(\"Gender\", fontsize=17)\n",
    "plt.ylabel(\"Count\",fontsize=17)\n",
    "plt.title(\"Gender distribution\",fontdict ={\"fontsize\": 17})\n",
    "show_values_on_bars(types,h_v=\"v\",space=1)"
   ]
  },
  {
   "cell_type": "code",
   "execution_count": null,
   "id": "20ad1421",
   "metadata": {},
   "outputs": [],
   "source": []
  },
  {
   "cell_type": "markdown",
   "id": "5d37f671",
   "metadata": {},
   "source": [
    "### Marital Status based Customer distribution"
   ]
  },
  {
   "cell_type": "code",
   "execution_count": 62,
   "id": "6bcaeeac",
   "metadata": {},
   "outputs": [
    {
     "data": {
      "image/png": "[encoded data removed]",
      "text/plain": [
       "<Figure size 720x360 with 1 Axes>"
      ]
     },
     "metadata": {},
     "output_type": "display_data"
    }
   ],
   "source": [
    "sns.set(font_scale = 1.1)\n",
    "plt.figure(figsize=(10,5))\n",
    "types = sns.countplot(data = df , x = \"MaritalStatus\")\n",
    "plt.xlabel(\"Marital Status\", fontsize=17)\n",
    "plt.ylabel(\"Count\",fontsize=17)\n",
    "plt.title(\"Marital Status based Customer distribution\",fontdict ={\"fontsize\": 17})\n",
    "show_values_on_bars(types,h_v=\"v\",space=1)"
   ]
  },
  {
   "cell_type": "markdown",
   "id": "32a1139f",
   "metadata": {},
   "source": [
    "### Age distribution"
   ]
  },
  {
   "cell_type": "code",
   "execution_count": 63,
   "id": "e9842937",
   "metadata": {
    "scrolled": false
   },
   "outputs": [
    {
     "data": {
      "image/png": "[encoded data removed]",
      "text/plain": [
       "<Figure size 720x360 with 1 Axes>"
      ]
     },
     "metadata": {},
     "output_type": "display_data"
    }
   ],
   "source": [
    "age_group_df = df.groupby(['Age'])['Income'].nunique().reset_index()\n",
    "plt.figure(figsize=(10,5))\n",
    "sns.set(font_scale = 1.1)\n",
    "types = sns.lineplot(data = age_group_df , x = \"Age\", y=\"Income\")\n",
    "plt.xlabel(\"Age\", fontsize=17)\n",
    "plt.ylabel(\"Number of People\",fontsize=17)\n",
    "show_values_on_bars(types,h_v=\"v\",space=1)\n"
   ]
  },
  {
   "cell_type": "code",
   "execution_count": 64,
   "id": "fb6d7334",
   "metadata": {},
   "outputs": [
    {
     "data": {
      "image/png": "[encoded data removed]",
      "text/plain": [
       "<Figure size 720x360 with 1 Axes>"
      ]
     },
     "metadata": {},
     "output_type": "display_data"
    }
   ],
   "source": [
    "sns.set(font_scale = 1.1)\n",
    "plt.figure(figsize=(10,5))\n",
    "plt.xlabel(\"Gender\",fontsize=17)\n",
    "plt.ylabel(\"Age\",fontsize=17)\n",
    "sns.boxplot(x= 'Gender', y='Age', data=df)\n",
    "plt.show()"
   ]
  },
  {
   "cell_type": "code",
   "execution_count": null,
   "id": "25b88846",
   "metadata": {},
   "outputs": [],
   "source": []
  },
  {
   "cell_type": "markdown",
   "id": "8230d91b",
   "metadata": {},
   "source": [
    "### Miles based cutsomers distribution"
   ]
  },
  {
   "cell_type": "code",
   "execution_count": 65,
   "id": "a7983d51",
   "metadata": {},
   "outputs": [
    {
     "data": {
      "image/png": "[encoded data removed]",
      "text/plain": [
       "<Figure size 720x360 with 1 Axes>"
      ]
     },
     "metadata": {},
     "output_type": "display_data"
    }
   ],
   "source": [
    "sns.set(font_scale = 1.1)\n",
    "plt.figure(figsize=(10,5))\n",
    "plt.xlabel(\"Gender\",fontsize=17)\n",
    "plt.ylabel(\"Density\",fontsize=17)\n",
    "sns.distplot(df[\"Miles\"])\n",
    "plt.title(\"Miles based cutsomers distribution\",fontdict ={\"fontsize\": 17})\n",
    "plt.show()"
   ]
  },
  {
   "cell_type": "code",
   "execution_count": 66,
   "id": "a149164e",
   "metadata": {},
   "outputs": [
    {
     "data": {
      "image/png": "[encoded data removed]",
      "text/plain": [
       "<Figure size 720x360 with 1 Axes>"
      ]
     },
     "metadata": {},
     "output_type": "display_data"
    }
   ],
   "source": [
    "sns.set(font_scale = 1.1)\n",
    "plt.figure(figsize=(10,5))\n",
    "plt.xlabel(\"Gender\",fontsize=17)\n",
    "plt.ylabel(\"Miles\",fontsize=17)\n",
    "sns.boxplot(x= 'Gender', y='Miles', data=df)\n",
    "plt.title(\"Miles and Gender based Customer distribution\",fontdict ={\"fontsize\": 17})\n",
    "plt.show()"
   ]
  },
  {
   "cell_type": "code",
   "execution_count": null,
   "id": "ae7aabbf",
   "metadata": {},
   "outputs": [],
   "source": []
  },
  {
   "cell_type": "markdown",
   "id": "32947c99",
   "metadata": {},
   "source": [
    "### Checking for Outliers in Miles"
   ]
  },
  {
   "cell_type": "code",
   "execution_count": 67,
   "id": "fa9b112b",
   "metadata": {},
   "outputs": [
    {
     "name": "stdout",
     "output_type": "stream",
     "text": [
      "Q1 = 66.0, Q3 = 114.75, IQR = 48.75\n",
      "Outliers :  13\n",
      "\n",
      "Customers who run more than 187.875 (outliers).\n"
     ]
    },
    {
     "data": {
      "text/plain": [
       "KP781    11\n",
       "KP281     1\n",
       "KP481     1\n",
       "Name: Product, dtype: int64"
      ]
     },
     "execution_count": 67,
     "metadata": {},
     "output_type": "execute_result"
    }
   ],
   "source": [
    "IQR = np.percentile(df[\"Miles\"],75) - np.percentile(df[\"Miles\"],25)\n",
    "Q3 = np.percentile(df[\"Miles\"],75)\n",
    "Q1 = np.percentile(df[\"Miles\"],25)\n",
    "UpperWhisker = Q3 + (1.5*(IQR))\n",
    "UpperWhisker\n",
    "\n",
    "print(f\"Q1 = {Q1}, Q3 = {Q3}, IQR = {IQR}\")\n",
    "\n",
    "outlier_data = df[df[\"Miles\"]>UpperWhisker]\n",
    "print(\"Outliers : \",len(outlier_data))\n",
    "\n",
    "print()\n",
    "print(\"Customers who run more than 187.875 (outliers).\")\n",
    "outlier_data[\"Product\"].value_counts()\n"
   ]
  },
  {
   "cell_type": "markdown",
   "id": "3017208a",
   "metadata": {},
   "source": [
    "### Income based Gender distribution"
   ]
  },
  {
   "cell_type": "code",
   "execution_count": 68,
   "id": "ad6c11c2",
   "metadata": {
    "scrolled": true
   },
   "outputs": [
    {
     "data": {
      "image/png": "[encoded data removed]",
      "text/plain": [
       "<Figure size 720x360 with 1 Axes>"
      ]
     },
     "metadata": {},
     "output_type": "display_data"
    }
   ],
   "source": [
    "sns.set(font_scale = 1.1)\n",
    "plt.figure(figsize=(10,5))\n",
    "plt.xlabel(\"Gender\",fontsize=17)\n",
    "plt.ylabel(\"Density\",fontsize=17)\n",
    "sns.distplot(df[\"Income\"])\n",
    "plt.title(\"Income based Customer distribution\",fontdict ={\"fontsize\": 17})\n",
    "plt.show()"
   ]
  },
  {
   "cell_type": "code",
   "execution_count": 69,
   "id": "a9624919",
   "metadata": {},
   "outputs": [
    {
     "data": {
      "image/png": "[encoded data removed]",
      "text/plain": [
       "<Figure size 720x432 with 1 Axes>"
      ]
     },
     "metadata": {},
     "output_type": "display_data"
    }
   ],
   "source": [
    "sns.set(font_scale = 1.1)\n",
    "plt.figure(figsize=(10,6))\n",
    "plt.xlabel(\"Gender\",fontsize=17)\n",
    "plt.ylabel(\"Income\",fontsize=17)\n",
    "sns.boxplot(x= 'Gender', y='Income', data=df)\n",
    "plt.title(\"Income based Gender distribution\",fontdict ={\"fontsize\": 17})\n",
    "plt.show()"
   ]
  },
  {
   "cell_type": "markdown",
   "id": "5c3abab1",
   "metadata": {},
   "source": [
    "### Checking for Outliers in customer Income"
   ]
  },
  {
   "cell_type": "code",
   "execution_count": 70,
   "id": "34e4ae8e",
   "metadata": {
    "scrolled": true
   },
   "outputs": [
    {
     "name": "stdout",
     "output_type": "stream",
     "text": [
      "Q1 = 44058.75, Q3 = 58668.0, IQR = 14609.25\n"
     ]
    },
    {
     "data": {
      "text/plain": [
       "False    161\n",
       "True      19\n",
       "Name: Income, dtype: int64"
      ]
     },
     "execution_count": 70,
     "metadata": {},
     "output_type": "execute_result"
    }
   ],
   "source": [
    "IQR = np.percentile(df[\"Income\"],75)-np.percentile(df[\"Income\"],25)\n",
    "Q3 = np.percentile(df[\"Income\"],75)\n",
    "Q1 = np.percentile(df[\"Income\"],25)\n",
    "UpperWhisker = Q3 + (1.5*(IQR))\n",
    "UpperWhisker\n",
    "print(f\"Q1 = {Q1}, Q3 = {Q3}, IQR = {IQR}\")\n",
    "(df[\"Income\"] > UpperWhisker).value_counts()"
   ]
  },
  {
   "cell_type": "markdown",
   "id": "c0f624cb",
   "metadata": {},
   "source": [
    "##### Observation:\n",
    "* there are 19 customers, who have Income way above the other customers in the data"
   ]
  },
  {
   "cell_type": "code",
   "execution_count": null,
   "id": "d8087cec",
   "metadata": {},
   "outputs": [],
   "source": []
  },
  {
   "cell_type": "markdown",
   "id": "1b576647",
   "metadata": {},
   "source": [
    "## Product Analysis"
   ]
  },
  {
   "cell_type": "markdown",
   "id": "656cdd9f",
   "metadata": {},
   "source": [
    "### Product distribution"
   ]
  },
  {
   "cell_type": "code",
   "execution_count": 71,
   "id": "e25951b8",
   "metadata": {
    "scrolled": true
   },
   "outputs": [
    {
     "data": {
      "image/png": "[encoded data removed]",
      "text/plain": [
       "<Figure size 720x360 with 1 Axes>"
      ]
     },
     "metadata": {},
     "output_type": "display_data"
    }
   ],
   "source": [
    "sns.set(font_scale = 1.1)\n",
    "plt.figure(figsize=(10,5))\n",
    "types = sns.countplot(data = df , x = \"Product\")\n",
    "plt.xlabel(\"Product\", fontsize=17)\n",
    "plt.ylabel(\"Count\",fontsize=17)\n",
    "show_values_on_bars(types,h_v=\"v\",space=1)"
   ]
  },
  {
   "cell_type": "markdown",
   "id": "69e05afc",
   "metadata": {},
   "source": [
    "### Revenue base product distribution"
   ]
  },
  {
   "cell_type": "code",
   "execution_count": 72,
   "id": "9f11fa7e",
   "metadata": {},
   "outputs": [
    {
     "data": {
      "text/html": [
       "<div>\n",
       "<style scoped>\n",
       "    .dataframe tbody tr th:only-of-type {\n",
       "        vertical-align: middle;\n",
       "    }\n",
       "\n",
       "    .dataframe tbody tr th {\n",
       "        vertical-align: top;\n",
       "    }\n",
       "\n",
       "    .dataframe thead th {\n",
       "        text-align: right;\n",
       "    }\n",
       "</style>\n",
       "<table border=\"1\" class=\"dataframe\">\n",
       "  <thead>\n",
       "    <tr style=\"text-align: right;\">\n",
       "      <th></th>\n",
       "      <th>Product</th>\n",
       "      <th>Product_revenue</th>\n",
       "    </tr>\n",
       "  </thead>\n",
       "  <tbody>\n",
       "    <tr>\n",
       "      <th>0</th>\n",
       "      <td>KP281</td>\n",
       "      <td>120000</td>\n",
       "    </tr>\n",
       "    <tr>\n",
       "      <th>1</th>\n",
       "      <td>KP481</td>\n",
       "      <td>105000</td>\n",
       "    </tr>\n",
       "    <tr>\n",
       "      <th>2</th>\n",
       "      <td>KP781</td>\n",
       "      <td>100000</td>\n",
       "    </tr>\n",
       "  </tbody>\n",
       "</table>\n",
       "</div>"
      ],
      "text/plain": [
       "  Product  Product_revenue\n",
       "0   KP281           120000\n",
       "1   KP481           105000\n",
       "2   KP781           100000"
      ]
     },
     "execution_count": 72,
     "metadata": {},
     "output_type": "execute_result"
    }
   ],
   "source": [
    "product_revenue = df.groupby(['Product'])['Product_price'].sum().reset_index().rename(columns=\n",
    "                                                                                      {'Product':\"Product\", \n",
    "                                                                                       \"Product_price\":'Product_revenue'})\n",
    "\n",
    "product_revenue"
   ]
  },
  {
   "cell_type": "code",
   "execution_count": 73,
   "id": "d4c1919a",
   "metadata": {},
   "outputs": [
    {
     "data": {
      "image/png": "[encoded data removed]",
      "text/plain": [
       "<Figure size 720x360 with 1 Axes>"
      ]
     },
     "metadata": {},
     "output_type": "display_data"
    }
   ],
   "source": [
    "sns.set(font_scale = 1.1)\n",
    "plt.figure(figsize=(10,5))\n",
    "plt.xlabel(\"Product\",fontsize=17)\n",
    "plt.ylabel(\"Product Revenue\",fontsize=17)\n",
    "sns.barplot(x= 'Product', y='Product_revenue', data= product_revenue)\n",
    "plt.title(\"Revenue base product distribution\",fontdict ={\"fontsize\": 17})\n",
    "plt.show()"
   ]
  },
  {
   "cell_type": "markdown",
   "id": "6a7d0fa0",
   "metadata": {},
   "source": [
    "##### Observation:\n",
    "\n",
    "* KP281 is the top selling product and KP781 is the lowest selling product\n",
    "* KP281 is the highest revenue generating product\n",
    "* unlike the huge diffrence in number of product sold between KP481 and KP781 which was 20 (33%), the diffrence betwwen thier revenue is only 5000 USD (4%)\n"
   ]
  },
  {
   "cell_type": "code",
   "execution_count": null,
   "id": "7cc7b4b8",
   "metadata": {},
   "outputs": [],
   "source": []
  },
  {
   "cell_type": "code",
   "execution_count": null,
   "id": "ca58f72b",
   "metadata": {},
   "outputs": [],
   "source": []
  },
  {
   "cell_type": "markdown",
   "id": "f5303fe9",
   "metadata": {},
   "source": [
    "## Analysis using Multiple factors "
   ]
  },
  {
   "cell_type": "markdown",
   "id": "8f2d7f11",
   "metadata": {},
   "source": [
    "### Gender based product distribution"
   ]
  },
  {
   "cell_type": "code",
   "execution_count": 79,
   "id": "985f93d1",
   "metadata": {},
   "outputs": [
    {
     "data": {
      "text/html": [
       "<div>\n",
       "<style scoped>\n",
       "    .dataframe tbody tr th:only-of-type {\n",
       "        vertical-align: middle;\n",
       "    }\n",
       "\n",
       "    .dataframe tbody tr th {\n",
       "        vertical-align: top;\n",
       "    }\n",
       "\n",
       "    .dataframe thead th {\n",
       "        text-align: right;\n",
       "    }\n",
       "</style>\n",
       "<table border=\"1\" class=\"dataframe\">\n",
       "  <thead>\n",
       "    <tr style=\"text-align: right;\">\n",
       "      <th>Gender</th>\n",
       "      <th>Female</th>\n",
       "      <th>Male</th>\n",
       "      <th>All</th>\n",
       "    </tr>\n",
       "    <tr>\n",
       "      <th>Product</th>\n",
       "      <th></th>\n",
       "      <th></th>\n",
       "      <th></th>\n",
       "    </tr>\n",
       "  </thead>\n",
       "  <tbody>\n",
       "    <tr>\n",
       "      <th>KP281</th>\n",
       "      <td>40</td>\n",
       "      <td>40</td>\n",
       "      <td>80</td>\n",
       "    </tr>\n",
       "    <tr>\n",
       "      <th>KP481</th>\n",
       "      <td>29</td>\n",
       "      <td>31</td>\n",
       "      <td>60</td>\n",
       "    </tr>\n",
       "    <tr>\n",
       "      <th>KP781</th>\n",
       "      <td>7</td>\n",
       "      <td>33</td>\n",
       "      <td>40</td>\n",
       "    </tr>\n",
       "    <tr>\n",
       "      <th>All</th>\n",
       "      <td>76</td>\n",
       "      <td>104</td>\n",
       "      <td>180</td>\n",
       "    </tr>\n",
       "  </tbody>\n",
       "</table>\n",
       "</div>"
      ],
      "text/plain": [
       "Gender   Female  Male  All\n",
       "Product                   \n",
       "KP281        40    40   80\n",
       "KP481        29    31   60\n",
       "KP781         7    33   40\n",
       "All          76   104  180"
      ]
     },
     "execution_count": 79,
     "metadata": {},
     "output_type": "execute_result"
    }
   ],
   "source": [
    "pd.crosstab(df['Product'], df['Gender'], margins=True)"
   ]
  },
  {
   "cell_type": "code",
   "execution_count": 80,
   "id": "54d8dfe3",
   "metadata": {},
   "outputs": [
    {
     "data": {
      "image/png": "[encoded data removed]",
      "text/plain": [
       "<Figure size 432x288 with 1 Axes>"
      ]
     },
     "metadata": {},
     "output_type": "display_data"
    }
   ],
   "source": [
    "pd.crosstab(df['Product'], df['Gender']).plot(kind=\"bar\", stacked=False, rot=0)\n",
    "plt.title(\"Gender based product distribution\")\n",
    "plt.legend()\n",
    "plt.show()"
   ]
  },
  {
   "cell_type": "code",
   "execution_count": 81,
   "id": "83d5fca8",
   "metadata": {},
   "outputs": [
    {
     "data": {
      "text/html": [
       "<div>\n",
       "<style scoped>\n",
       "    .dataframe tbody tr th:only-of-type {\n",
       "        vertical-align: middle;\n",
       "    }\n",
       "\n",
       "    .dataframe tbody tr th {\n",
       "        vertical-align: top;\n",
       "    }\n",
       "\n",
       "    .dataframe thead th {\n",
       "        text-align: right;\n",
       "    }\n",
       "</style>\n",
       "<table border=\"1\" class=\"dataframe\">\n",
       "  <thead>\n",
       "    <tr style=\"text-align: right;\">\n",
       "      <th>Gender</th>\n",
       "      <th>Female</th>\n",
       "      <th>Male</th>\n",
       "      <th>All</th>\n",
       "    </tr>\n",
       "    <tr>\n",
       "      <th>Product</th>\n",
       "      <th></th>\n",
       "      <th></th>\n",
       "      <th></th>\n",
       "    </tr>\n",
       "  </thead>\n",
       "  <tbody>\n",
       "    <tr>\n",
       "      <th>KP281</th>\n",
       "      <td>22.222222</td>\n",
       "      <td>22.222222</td>\n",
       "      <td>44.444444</td>\n",
       "    </tr>\n",
       "    <tr>\n",
       "      <th>KP481</th>\n",
       "      <td>16.111111</td>\n",
       "      <td>17.222222</td>\n",
       "      <td>33.333333</td>\n",
       "    </tr>\n",
       "    <tr>\n",
       "      <th>KP781</th>\n",
       "      <td>3.888889</td>\n",
       "      <td>18.333333</td>\n",
       "      <td>22.222222</td>\n",
       "    </tr>\n",
       "    <tr>\n",
       "      <th>All</th>\n",
       "      <td>42.222222</td>\n",
       "      <td>57.777778</td>\n",
       "      <td>100.000000</td>\n",
       "    </tr>\n",
       "  </tbody>\n",
       "</table>\n",
       "</div>"
      ],
      "text/plain": [
       "Gender      Female       Male         All\n",
       "Product                                  \n",
       "KP281    22.222222  22.222222   44.444444\n",
       "KP481    16.111111  17.222222   33.333333\n",
       "KP781     3.888889  18.333333   22.222222\n",
       "All      42.222222  57.777778  100.000000"
      ]
     },
     "execution_count": 81,
     "metadata": {},
     "output_type": "execute_result"
    }
   ],
   "source": [
    "(pd.crosstab(df['Product'], df['Gender'], margins=True)/180)*100"
   ]
  },
  {
   "cell_type": "code",
   "execution_count": null,
   "id": "98c0c738",
   "metadata": {},
   "outputs": [],
   "source": []
  },
  {
   "cell_type": "markdown",
   "id": "b085d449",
   "metadata": {},
   "source": [
    "#### Observation\n",
    "\n",
    "* Gender distribution in KP281 is equal 22.22%\n",
    "* In KP481, percentage of Male customers are by 1.1%. \n",
    "* in PK781, percentage of Male customers are by 14.5%. And from this we can say that, when it comes to KP781, its the least favorite product of Female customers and on the other hand 2nd most sold product for Male cutsomers.\n",
    "\n",
    "* Marginal Probability for each product is: \n",
    "                                            KP281 = 44.4 %\n",
    "                                            KP481 = 33.3 %\n",
    "                                            KP781 = 22.2 %\n",
    "                                            \n",
    "* Marginal Probability for each Gender is:  \n",
    "                                            Male = 57.7 %\n",
    "                                            Female = 42.2 %\n",
    "                                           \n"
   ]
  },
  {
   "cell_type": "code",
   "execution_count": 82,
   "id": "4e3e0a68",
   "metadata": {},
   "outputs": [
    {
     "name": "stdout",
     "output_type": "stream",
     "text": [
      "Probability that a perticual gender will buy a perticular product shown below:\n"
     ]
    },
    {
     "data": {
      "text/html": [
       "<div>\n",
       "<style scoped>\n",
       "    .dataframe tbody tr th:only-of-type {\n",
       "        vertical-align: middle;\n",
       "    }\n",
       "\n",
       "    .dataframe tbody tr th {\n",
       "        vertical-align: top;\n",
       "    }\n",
       "\n",
       "    .dataframe thead th {\n",
       "        text-align: right;\n",
       "    }\n",
       "</style>\n",
       "<table border=\"1\" class=\"dataframe\">\n",
       "  <thead>\n",
       "    <tr style=\"text-align: right;\">\n",
       "      <th>Gender</th>\n",
       "      <th>Female</th>\n",
       "      <th>Male</th>\n",
       "      <th>All</th>\n",
       "    </tr>\n",
       "    <tr>\n",
       "      <th>Product</th>\n",
       "      <th></th>\n",
       "      <th></th>\n",
       "      <th></th>\n",
       "    </tr>\n",
       "  </thead>\n",
       "  <tbody>\n",
       "    <tr>\n",
       "      <th>KP281</th>\n",
       "      <td>52.631579</td>\n",
       "      <td>38.461538</td>\n",
       "      <td>44.444444</td>\n",
       "    </tr>\n",
       "    <tr>\n",
       "      <th>KP481</th>\n",
       "      <td>38.157895</td>\n",
       "      <td>29.807692</td>\n",
       "      <td>33.333333</td>\n",
       "    </tr>\n",
       "    <tr>\n",
       "      <th>KP781</th>\n",
       "      <td>9.210526</td>\n",
       "      <td>31.730769</td>\n",
       "      <td>22.222222</td>\n",
       "    </tr>\n",
       "  </tbody>\n",
       "</table>\n",
       "</div>"
      ],
      "text/plain": [
       "Gender      Female       Male        All\n",
       "Product                                 \n",
       "KP281    52.631579  38.461538  44.444444\n",
       "KP481    38.157895  29.807692  33.333333\n",
       "KP781     9.210526  31.730769  22.222222"
      ]
     },
     "execution_count": 82,
     "metadata": {},
     "output_type": "execute_result"
    }
   ],
   "source": [
    "print(\"Probability that a perticual gender will buy a perticular product shown below:\")\n",
    "\n",
    "(pd.crosstab(df['Product'], df['Gender'], margins=True, normalize='columns'))*100"
   ]
  },
  {
   "cell_type": "markdown",
   "id": "b59a0933",
   "metadata": {},
   "source": [
    "##### Observation:\n",
    "\n",
    "* When it comes to KP281 and KP481, it is more likely that a Female customer will buy it. And KP781 on the other hand is more in demand with Male customers as compare to the Female cutomers for that same product.\n"
   ]
  },
  {
   "cell_type": "markdown",
   "id": "14e137e0",
   "metadata": {},
   "source": [
    "### Marital status based product diestribution"
   ]
  },
  {
   "cell_type": "code",
   "execution_count": 83,
   "id": "e7da56e9",
   "metadata": {},
   "outputs": [
    {
     "data": {
      "text/html": [
       "<div>\n",
       "<style scoped>\n",
       "    .dataframe tbody tr th:only-of-type {\n",
       "        vertical-align: middle;\n",
       "    }\n",
       "\n",
       "    .dataframe tbody tr th {\n",
       "        vertical-align: top;\n",
       "    }\n",
       "\n",
       "    .dataframe thead th {\n",
       "        text-align: right;\n",
       "    }\n",
       "</style>\n",
       "<table border=\"1\" class=\"dataframe\">\n",
       "  <thead>\n",
       "    <tr style=\"text-align: right;\">\n",
       "      <th>MaritalStatus</th>\n",
       "      <th>Partnered</th>\n",
       "      <th>Single</th>\n",
       "      <th>All</th>\n",
       "    </tr>\n",
       "    <tr>\n",
       "      <th>Product</th>\n",
       "      <th></th>\n",
       "      <th></th>\n",
       "      <th></th>\n",
       "    </tr>\n",
       "  </thead>\n",
       "  <tbody>\n",
       "    <tr>\n",
       "      <th>KP281</th>\n",
       "      <td>48</td>\n",
       "      <td>32</td>\n",
       "      <td>80</td>\n",
       "    </tr>\n",
       "    <tr>\n",
       "      <th>KP481</th>\n",
       "      <td>36</td>\n",
       "      <td>24</td>\n",
       "      <td>60</td>\n",
       "    </tr>\n",
       "    <tr>\n",
       "      <th>KP781</th>\n",
       "      <td>23</td>\n",
       "      <td>17</td>\n",
       "      <td>40</td>\n",
       "    </tr>\n",
       "    <tr>\n",
       "      <th>All</th>\n",
       "      <td>107</td>\n",
       "      <td>73</td>\n",
       "      <td>180</td>\n",
       "    </tr>\n",
       "  </tbody>\n",
       "</table>\n",
       "</div>"
      ],
      "text/plain": [
       "MaritalStatus  Partnered  Single  All\n",
       "Product                              \n",
       "KP281                 48      32   80\n",
       "KP481                 36      24   60\n",
       "KP781                 23      17   40\n",
       "All                  107      73  180"
      ]
     },
     "execution_count": 83,
     "metadata": {},
     "output_type": "execute_result"
    }
   ],
   "source": [
    "pd.crosstab(df['Product'],df['MaritalStatus'], margins=True)"
   ]
  },
  {
   "cell_type": "code",
   "execution_count": 84,
   "id": "c72aea0d",
   "metadata": {},
   "outputs": [
    {
     "data": {
      "image/png": "[encoded data removed]",
      "text/plain": [
       "<Figure size 432x288 with 1 Axes>"
      ]
     },
     "metadata": {},
     "output_type": "display_data"
    }
   ],
   "source": [
    "pd.crosstab(df['Product'],df['MaritalStatus']).plot(kind=\"bar\", stacked=False, rot=0)\n",
    "plt.title(\"Marital Status based product distribution\")\n",
    "plt.legend()\n",
    "plt.show()"
   ]
  },
  {
   "cell_type": "code",
   "execution_count": 85,
   "id": "c14c2f85",
   "metadata": {},
   "outputs": [
    {
     "data": {
      "text/html": [
       "<div>\n",
       "<style scoped>\n",
       "    .dataframe tbody tr th:only-of-type {\n",
       "        vertical-align: middle;\n",
       "    }\n",
       "\n",
       "    .dataframe tbody tr th {\n",
       "        vertical-align: top;\n",
       "    }\n",
       "\n",
       "    .dataframe thead th {\n",
       "        text-align: right;\n",
       "    }\n",
       "</style>\n",
       "<table border=\"1\" class=\"dataframe\">\n",
       "  <thead>\n",
       "    <tr style=\"text-align: right;\">\n",
       "      <th>MaritalStatus</th>\n",
       "      <th>Partnered</th>\n",
       "      <th>Single</th>\n",
       "      <th>All</th>\n",
       "    </tr>\n",
       "    <tr>\n",
       "      <th>Product</th>\n",
       "      <th></th>\n",
       "      <th></th>\n",
       "      <th></th>\n",
       "    </tr>\n",
       "  </thead>\n",
       "  <tbody>\n",
       "    <tr>\n",
       "      <th>KP281</th>\n",
       "      <td>26.666667</td>\n",
       "      <td>17.777778</td>\n",
       "      <td>44.444444</td>\n",
       "    </tr>\n",
       "    <tr>\n",
       "      <th>KP481</th>\n",
       "      <td>20.000000</td>\n",
       "      <td>13.333333</td>\n",
       "      <td>33.333333</td>\n",
       "    </tr>\n",
       "    <tr>\n",
       "      <th>KP781</th>\n",
       "      <td>12.777778</td>\n",
       "      <td>9.444444</td>\n",
       "      <td>22.222222</td>\n",
       "    </tr>\n",
       "    <tr>\n",
       "      <th>All</th>\n",
       "      <td>59.444444</td>\n",
       "      <td>40.555556</td>\n",
       "      <td>100.000000</td>\n",
       "    </tr>\n",
       "  </tbody>\n",
       "</table>\n",
       "</div>"
      ],
      "text/plain": [
       "MaritalStatus  Partnered     Single         All\n",
       "Product                                        \n",
       "KP281          26.666667  17.777778   44.444444\n",
       "KP481          20.000000  13.333333   33.333333\n",
       "KP781          12.777778   9.444444   22.222222\n",
       "All            59.444444  40.555556  100.000000"
      ]
     },
     "execution_count": 85,
     "metadata": {},
     "output_type": "execute_result"
    }
   ],
   "source": [
    "(pd.crosstab(df['Product'],df['MaritalStatus'], margins=True)/180)*100"
   ]
  },
  {
   "cell_type": "code",
   "execution_count": 86,
   "id": "d1acde9a",
   "metadata": {
    "scrolled": true
   },
   "outputs": [
    {
     "data": {
      "text/html": [
       "<div>\n",
       "<style scoped>\n",
       "    .dataframe tbody tr th:only-of-type {\n",
       "        vertical-align: middle;\n",
       "    }\n",
       "\n",
       "    .dataframe tbody tr th {\n",
       "        vertical-align: top;\n",
       "    }\n",
       "\n",
       "    .dataframe thead tr th {\n",
       "        text-align: left;\n",
       "    }\n",
       "\n",
       "    .dataframe thead tr:last-of-type th {\n",
       "        text-align: right;\n",
       "    }\n",
       "</style>\n",
       "<table border=\"1\" class=\"dataframe\">\n",
       "  <thead>\n",
       "    <tr>\n",
       "      <th>MaritalStatus</th>\n",
       "      <th colspan=\"2\" halign=\"left\">Partnered</th>\n",
       "      <th colspan=\"2\" halign=\"left\">Single</th>\n",
       "      <th>All</th>\n",
       "    </tr>\n",
       "    <tr>\n",
       "      <th>Gender</th>\n",
       "      <th>Female</th>\n",
       "      <th>Male</th>\n",
       "      <th>Female</th>\n",
       "      <th>Male</th>\n",
       "      <th></th>\n",
       "    </tr>\n",
       "    <tr>\n",
       "      <th>Product</th>\n",
       "      <th></th>\n",
       "      <th></th>\n",
       "      <th></th>\n",
       "      <th></th>\n",
       "      <th></th>\n",
       "    </tr>\n",
       "  </thead>\n",
       "  <tbody>\n",
       "    <tr>\n",
       "      <th>KP281</th>\n",
       "      <td>27</td>\n",
       "      <td>21</td>\n",
       "      <td>13</td>\n",
       "      <td>19</td>\n",
       "      <td>80</td>\n",
       "    </tr>\n",
       "    <tr>\n",
       "      <th>KP481</th>\n",
       "      <td>15</td>\n",
       "      <td>21</td>\n",
       "      <td>14</td>\n",
       "      <td>10</td>\n",
       "      <td>60</td>\n",
       "    </tr>\n",
       "    <tr>\n",
       "      <th>KP781</th>\n",
       "      <td>4</td>\n",
       "      <td>19</td>\n",
       "      <td>3</td>\n",
       "      <td>14</td>\n",
       "      <td>40</td>\n",
       "    </tr>\n",
       "    <tr>\n",
       "      <th>All</th>\n",
       "      <td>46</td>\n",
       "      <td>61</td>\n",
       "      <td>30</td>\n",
       "      <td>43</td>\n",
       "      <td>180</td>\n",
       "    </tr>\n",
       "  </tbody>\n",
       "</table>\n",
       "</div>"
      ],
      "text/plain": [
       "MaritalStatus Partnered      Single       All\n",
       "Gender           Female Male Female Male     \n",
       "Product                                      \n",
       "KP281                27   21     13   19   80\n",
       "KP481                15   21     14   10   60\n",
       "KP781                 4   19      3   14   40\n",
       "All                  46   61     30   43  180"
      ]
     },
     "execution_count": 86,
     "metadata": {},
     "output_type": "execute_result"
    }
   ],
   "source": [
    "pd.crosstab(df['Product'],[df['MaritalStatus'],df['Gender']], margins=True)"
   ]
  },
  {
   "cell_type": "code",
   "execution_count": 87,
   "id": "647cc7da",
   "metadata": {},
   "outputs": [
    {
     "data": {
      "image/png": "[encoded data removed]",
      "text/plain": [
       "<Figure size 432x288 with 1 Axes>"
      ]
     },
     "metadata": {},
     "output_type": "display_data"
    }
   ],
   "source": [
    "pd.crosstab(df['Product'],[df['MaritalStatus'],df['Gender']]).plot(kind=\"bar\", stacked=False, rot=0)\n",
    "plt.title(\"Marital Status and gender based product distribution\")\n",
    "plt.legend()\n",
    "plt.show()"
   ]
  },
  {
   "cell_type": "markdown",
   "id": "569c7dea",
   "metadata": {},
   "source": [
    "##### Obsrvation:\n",
    "\n",
    "* Marginal Probability for   \n",
    "        Married Customers : 59.44 %\n",
    "        Single Customers : 40.555 %\n",
    "\n",
    "* there is a 18.9% higher chance of a cutomer being partnered as compare to being single.\n",
    "* KP281 is most popular among Partnered Females\n",
    "* KP481 is most popular among Partnered Males\n",
    "* KP781 is most popular among Partnered Males\n"
   ]
  },
  {
   "cell_type": "code",
   "execution_count": 88,
   "id": "5f28161f",
   "metadata": {},
   "outputs": [
    {
     "name": "stdout",
     "output_type": "stream",
     "text": [
      "Probability of a customer being single or partnered according to the perticular product they perchase is given below\n"
     ]
    },
    {
     "data": {
      "text/html": [
       "<div>\n",
       "<style scoped>\n",
       "    .dataframe tbody tr th:only-of-type {\n",
       "        vertical-align: middle;\n",
       "    }\n",
       "\n",
       "    .dataframe tbody tr th {\n",
       "        vertical-align: top;\n",
       "    }\n",
       "\n",
       "    .dataframe thead th {\n",
       "        text-align: right;\n",
       "    }\n",
       "</style>\n",
       "<table border=\"1\" class=\"dataframe\">\n",
       "  <thead>\n",
       "    <tr style=\"text-align: right;\">\n",
       "      <th>MaritalStatus</th>\n",
       "      <th>Partnered</th>\n",
       "      <th>Single</th>\n",
       "      <th>All</th>\n",
       "    </tr>\n",
       "    <tr>\n",
       "      <th>Product</th>\n",
       "      <th></th>\n",
       "      <th></th>\n",
       "      <th></th>\n",
       "    </tr>\n",
       "  </thead>\n",
       "  <tbody>\n",
       "    <tr>\n",
       "      <th>KP281</th>\n",
       "      <td>0.448598</td>\n",
       "      <td>0.438356</td>\n",
       "      <td>0.444444</td>\n",
       "    </tr>\n",
       "    <tr>\n",
       "      <th>KP481</th>\n",
       "      <td>0.336449</td>\n",
       "      <td>0.328767</td>\n",
       "      <td>0.333333</td>\n",
       "    </tr>\n",
       "    <tr>\n",
       "      <th>KP781</th>\n",
       "      <td>0.214953</td>\n",
       "      <td>0.232877</td>\n",
       "      <td>0.222222</td>\n",
       "    </tr>\n",
       "  </tbody>\n",
       "</table>\n",
       "</div>"
      ],
      "text/plain": [
       "MaritalStatus  Partnered    Single       All\n",
       "Product                                     \n",
       "KP281           0.448598  0.438356  0.444444\n",
       "KP481           0.336449  0.328767  0.333333\n",
       "KP781           0.214953  0.232877  0.222222"
      ]
     },
     "execution_count": 88,
     "metadata": {},
     "output_type": "execute_result"
    }
   ],
   "source": [
    "print('Probability of a customer being single or partnered according to the perticular product they perchase is given below')\n",
    "\n",
    "(pd.crosstab(df['Product'],df['MaritalStatus'], margins=True, normalize='columns'))"
   ]
  },
  {
   "cell_type": "markdown",
   "id": "2fb00102",
   "metadata": {},
   "source": [
    "### Education based Product distribution"
   ]
  },
  {
   "cell_type": "code",
   "execution_count": 89,
   "id": "af5e96f7",
   "metadata": {
    "scrolled": true
   },
   "outputs": [
    {
     "data": {
      "text/html": [
       "<div>\n",
       "<style scoped>\n",
       "    .dataframe tbody tr th:only-of-type {\n",
       "        vertical-align: middle;\n",
       "    }\n",
       "\n",
       "    .dataframe tbody tr th {\n",
       "        vertical-align: top;\n",
       "    }\n",
       "\n",
       "    .dataframe thead th {\n",
       "        text-align: right;\n",
       "    }\n",
       "</style>\n",
       "<table border=\"1\" class=\"dataframe\">\n",
       "  <thead>\n",
       "    <tr style=\"text-align: right;\">\n",
       "      <th>Product</th>\n",
       "      <th>KP281</th>\n",
       "      <th>KP481</th>\n",
       "      <th>KP781</th>\n",
       "      <th>All</th>\n",
       "    </tr>\n",
       "    <tr>\n",
       "      <th>Education</th>\n",
       "      <th></th>\n",
       "      <th></th>\n",
       "      <th></th>\n",
       "      <th></th>\n",
       "    </tr>\n",
       "  </thead>\n",
       "  <tbody>\n",
       "    <tr>\n",
       "      <th>12</th>\n",
       "      <td>2</td>\n",
       "      <td>1</td>\n",
       "      <td>0</td>\n",
       "      <td>3</td>\n",
       "    </tr>\n",
       "    <tr>\n",
       "      <th>13</th>\n",
       "      <td>3</td>\n",
       "      <td>2</td>\n",
       "      <td>0</td>\n",
       "      <td>5</td>\n",
       "    </tr>\n",
       "    <tr>\n",
       "      <th>14</th>\n",
       "      <td>30</td>\n",
       "      <td>23</td>\n",
       "      <td>2</td>\n",
       "      <td>55</td>\n",
       "    </tr>\n",
       "    <tr>\n",
       "      <th>15</th>\n",
       "      <td>4</td>\n",
       "      <td>1</td>\n",
       "      <td>0</td>\n",
       "      <td>5</td>\n",
       "    </tr>\n",
       "    <tr>\n",
       "      <th>16</th>\n",
       "      <td>39</td>\n",
       "      <td>31</td>\n",
       "      <td>15</td>\n",
       "      <td>85</td>\n",
       "    </tr>\n",
       "    <tr>\n",
       "      <th>18</th>\n",
       "      <td>2</td>\n",
       "      <td>2</td>\n",
       "      <td>19</td>\n",
       "      <td>23</td>\n",
       "    </tr>\n",
       "    <tr>\n",
       "      <th>20</th>\n",
       "      <td>0</td>\n",
       "      <td>0</td>\n",
       "      <td>1</td>\n",
       "      <td>1</td>\n",
       "    </tr>\n",
       "    <tr>\n",
       "      <th>21</th>\n",
       "      <td>0</td>\n",
       "      <td>0</td>\n",
       "      <td>3</td>\n",
       "      <td>3</td>\n",
       "    </tr>\n",
       "    <tr>\n",
       "      <th>All</th>\n",
       "      <td>80</td>\n",
       "      <td>60</td>\n",
       "      <td>40</td>\n",
       "      <td>180</td>\n",
       "    </tr>\n",
       "  </tbody>\n",
       "</table>\n",
       "</div>"
      ],
      "text/plain": [
       "Product    KP281  KP481  KP781  All\n",
       "Education                          \n",
       "12             2      1      0    3\n",
       "13             3      2      0    5\n",
       "14            30     23      2   55\n",
       "15             4      1      0    5\n",
       "16            39     31     15   85\n",
       "18             2      2     19   23\n",
       "20             0      0      1    1\n",
       "21             0      0      3    3\n",
       "All           80     60     40  180"
      ]
     },
     "execution_count": 89,
     "metadata": {},
     "output_type": "execute_result"
    }
   ],
   "source": [
    "pd.crosstab(df['Education'], df['Product'], margins=True)"
   ]
  },
  {
   "cell_type": "code",
   "execution_count": 90,
   "id": "b78d0490",
   "metadata": {},
   "outputs": [
    {
     "data": {
      "image/png": "[encoded data removed]",
      "text/plain": [
       "<Figure size 432x288 with 1 Axes>"
      ]
     },
     "metadata": {},
     "output_type": "display_data"
    }
   ],
   "source": [
    "pd.crosstab(df['Education'], df['Product']).plot(kind=\"bar\", stacked=False, rot=0)\n",
    "plt.title(\"Education based product distribution\")\n",
    "plt.legend()\n",
    "plt.show()"
   ]
  },
  {
   "cell_type": "markdown",
   "id": "ff4a2ac0",
   "metadata": {},
   "source": [
    "##### Observation:\n",
    "\n",
    "* Product KP281 and KP481 is more popular among cutomers who have education between 14 to 16\n",
    "* product KP781 is purchased by customers of education 16 and above.\n",
    "\n",
    "* This is because Education and Income have a positive and high correlation, and Product price and Income also have a positive and high correlation. That is the main reason KP781 which is a higher varient of the tredmill with higher price is so popular because of the high income of the customers.\n"
   ]
  },
  {
   "cell_type": "code",
   "execution_count": null,
   "id": "74c4c113",
   "metadata": {},
   "outputs": [],
   "source": []
  },
  {
   "cell_type": "markdown",
   "id": "c00c9580",
   "metadata": {},
   "source": [
    "### Usage based product distribution"
   ]
  },
  {
   "cell_type": "code",
   "execution_count": 91,
   "id": "ab8d3d84",
   "metadata": {
    "scrolled": true
   },
   "outputs": [
    {
     "data": {
      "text/html": [
       "<div>\n",
       "<style scoped>\n",
       "    .dataframe tbody tr th:only-of-type {\n",
       "        vertical-align: middle;\n",
       "    }\n",
       "\n",
       "    .dataframe tbody tr th {\n",
       "        vertical-align: top;\n",
       "    }\n",
       "\n",
       "    .dataframe thead th {\n",
       "        text-align: right;\n",
       "    }\n",
       "</style>\n",
       "<table border=\"1\" class=\"dataframe\">\n",
       "  <thead>\n",
       "    <tr style=\"text-align: right;\">\n",
       "      <th>Product</th>\n",
       "      <th>KP281</th>\n",
       "      <th>KP481</th>\n",
       "      <th>KP781</th>\n",
       "      <th>All</th>\n",
       "    </tr>\n",
       "    <tr>\n",
       "      <th>Usage</th>\n",
       "      <th></th>\n",
       "      <th></th>\n",
       "      <th></th>\n",
       "      <th></th>\n",
       "    </tr>\n",
       "  </thead>\n",
       "  <tbody>\n",
       "    <tr>\n",
       "      <th>2</th>\n",
       "      <td>19</td>\n",
       "      <td>14</td>\n",
       "      <td>0</td>\n",
       "      <td>33</td>\n",
       "    </tr>\n",
       "    <tr>\n",
       "      <th>3</th>\n",
       "      <td>37</td>\n",
       "      <td>31</td>\n",
       "      <td>1</td>\n",
       "      <td>69</td>\n",
       "    </tr>\n",
       "    <tr>\n",
       "      <th>4</th>\n",
       "      <td>22</td>\n",
       "      <td>12</td>\n",
       "      <td>18</td>\n",
       "      <td>52</td>\n",
       "    </tr>\n",
       "    <tr>\n",
       "      <th>5</th>\n",
       "      <td>2</td>\n",
       "      <td>3</td>\n",
       "      <td>12</td>\n",
       "      <td>17</td>\n",
       "    </tr>\n",
       "    <tr>\n",
       "      <th>6</th>\n",
       "      <td>0</td>\n",
       "      <td>0</td>\n",
       "      <td>7</td>\n",
       "      <td>7</td>\n",
       "    </tr>\n",
       "    <tr>\n",
       "      <th>7</th>\n",
       "      <td>0</td>\n",
       "      <td>0</td>\n",
       "      <td>2</td>\n",
       "      <td>2</td>\n",
       "    </tr>\n",
       "    <tr>\n",
       "      <th>All</th>\n",
       "      <td>80</td>\n",
       "      <td>60</td>\n",
       "      <td>40</td>\n",
       "      <td>180</td>\n",
       "    </tr>\n",
       "  </tbody>\n",
       "</table>\n",
       "</div>"
      ],
      "text/plain": [
       "Product  KP281  KP481  KP781  All\n",
       "Usage                            \n",
       "2           19     14      0   33\n",
       "3           37     31      1   69\n",
       "4           22     12     18   52\n",
       "5            2      3     12   17\n",
       "6            0      0      7    7\n",
       "7            0      0      2    2\n",
       "All         80     60     40  180"
      ]
     },
     "execution_count": 91,
     "metadata": {},
     "output_type": "execute_result"
    }
   ],
   "source": [
    "pd.crosstab(df['Usage'], df['Product'], margins=True)"
   ]
  },
  {
   "cell_type": "code",
   "execution_count": 92,
   "id": "614f043e",
   "metadata": {},
   "outputs": [
    {
     "data": {
      "text/html": [
       "<div>\n",
       "<style scoped>\n",
       "    .dataframe tbody tr th:only-of-type {\n",
       "        vertical-align: middle;\n",
       "    }\n",
       "\n",
       "    .dataframe tbody tr th {\n",
       "        vertical-align: top;\n",
       "    }\n",
       "\n",
       "    .dataframe thead th {\n",
       "        text-align: right;\n",
       "    }\n",
       "</style>\n",
       "<table border=\"1\" class=\"dataframe\">\n",
       "  <thead>\n",
       "    <tr style=\"text-align: right;\">\n",
       "      <th>Product</th>\n",
       "      <th>KP281</th>\n",
       "      <th>KP481</th>\n",
       "      <th>KP781</th>\n",
       "    </tr>\n",
       "    <tr>\n",
       "      <th>Usage</th>\n",
       "      <th></th>\n",
       "      <th></th>\n",
       "      <th></th>\n",
       "    </tr>\n",
       "  </thead>\n",
       "  <tbody>\n",
       "    <tr>\n",
       "      <th>2</th>\n",
       "      <td>23.75</td>\n",
       "      <td>23.333333</td>\n",
       "      <td>0.0</td>\n",
       "    </tr>\n",
       "    <tr>\n",
       "      <th>3</th>\n",
       "      <td>46.25</td>\n",
       "      <td>51.666667</td>\n",
       "      <td>2.5</td>\n",
       "    </tr>\n",
       "    <tr>\n",
       "      <th>4</th>\n",
       "      <td>27.50</td>\n",
       "      <td>20.000000</td>\n",
       "      <td>45.0</td>\n",
       "    </tr>\n",
       "    <tr>\n",
       "      <th>5</th>\n",
       "      <td>2.50</td>\n",
       "      <td>5.000000</td>\n",
       "      <td>30.0</td>\n",
       "    </tr>\n",
       "    <tr>\n",
       "      <th>6</th>\n",
       "      <td>0.00</td>\n",
       "      <td>0.000000</td>\n",
       "      <td>17.5</td>\n",
       "    </tr>\n",
       "    <tr>\n",
       "      <th>7</th>\n",
       "      <td>0.00</td>\n",
       "      <td>0.000000</td>\n",
       "      <td>5.0</td>\n",
       "    </tr>\n",
       "  </tbody>\n",
       "</table>\n",
       "</div>"
      ],
      "text/plain": [
       "Product  KP281      KP481  KP781\n",
       "Usage                           \n",
       "2        23.75  23.333333    0.0\n",
       "3        46.25  51.666667    2.5\n",
       "4        27.50  20.000000   45.0\n",
       "5         2.50   5.000000   30.0\n",
       "6         0.00   0.000000   17.5\n",
       "7         0.00   0.000000    5.0"
      ]
     },
     "execution_count": 92,
     "metadata": {},
     "output_type": "execute_result"
    }
   ],
   "source": [
    "pd.crosstab(df['Usage'], df['Product'], normalize='columns')*100"
   ]
  },
  {
   "cell_type": "code",
   "execution_count": 93,
   "id": "0bf7e902",
   "metadata": {},
   "outputs": [
    {
     "data": {
      "image/png": "[encoded data removed]",
      "text/plain": [
       "<Figure size 360x360 with 1 Axes>"
      ]
     },
     "metadata": {},
     "output_type": "display_data"
    }
   ],
   "source": [
    "sns.catplot(x='Product', y='Usage', kind=\"box\", data=df)\n",
    "plt.title(\"Usage based product distribution\")\n",
    "plt.show()"
   ]
  },
  {
   "cell_type": "markdown",
   "id": "0b9d8866",
   "metadata": {},
   "source": [
    "##### Observation:\n",
    "* customers who use tredmill 6 to 7 days per week is most likely to use KP781\n",
    "* KP281 and KP481 users are the ones who use thier tredmill 2 to 4 days per week."
   ]
  },
  {
   "cell_type": "code",
   "execution_count": null,
   "id": "d086b2da",
   "metadata": {},
   "outputs": [],
   "source": []
  },
  {
   "cell_type": "markdown",
   "id": "21b6b1a8",
   "metadata": {},
   "source": [
    "### Fitness based product distribution"
   ]
  },
  {
   "cell_type": "code",
   "execution_count": 94,
   "id": "fcfbed55",
   "metadata": {},
   "outputs": [
    {
     "data": {
      "text/html": [
       "<div>\n",
       "<style scoped>\n",
       "    .dataframe tbody tr th:only-of-type {\n",
       "        vertical-align: middle;\n",
       "    }\n",
       "\n",
       "    .dataframe tbody tr th {\n",
       "        vertical-align: top;\n",
       "    }\n",
       "\n",
       "    .dataframe thead th {\n",
       "        text-align: right;\n",
       "    }\n",
       "</style>\n",
       "<table border=\"1\" class=\"dataframe\">\n",
       "  <thead>\n",
       "    <tr style=\"text-align: right;\">\n",
       "      <th>Product</th>\n",
       "      <th>KP281</th>\n",
       "      <th>KP481</th>\n",
       "      <th>KP781</th>\n",
       "      <th>All</th>\n",
       "    </tr>\n",
       "    <tr>\n",
       "      <th>Fitness_category</th>\n",
       "      <th></th>\n",
       "      <th></th>\n",
       "      <th></th>\n",
       "      <th></th>\n",
       "    </tr>\n",
       "  </thead>\n",
       "  <tbody>\n",
       "    <tr>\n",
       "      <th>Average Shape</th>\n",
       "      <td>54</td>\n",
       "      <td>39</td>\n",
       "      <td>4</td>\n",
       "      <td>97</td>\n",
       "    </tr>\n",
       "    <tr>\n",
       "      <th>Bad Shape</th>\n",
       "      <td>14</td>\n",
       "      <td>12</td>\n",
       "      <td>0</td>\n",
       "      <td>26</td>\n",
       "    </tr>\n",
       "    <tr>\n",
       "      <th>Excellent Shape</th>\n",
       "      <td>2</td>\n",
       "      <td>0</td>\n",
       "      <td>29</td>\n",
       "      <td>31</td>\n",
       "    </tr>\n",
       "    <tr>\n",
       "      <th>Good Shape</th>\n",
       "      <td>9</td>\n",
       "      <td>8</td>\n",
       "      <td>7</td>\n",
       "      <td>24</td>\n",
       "    </tr>\n",
       "    <tr>\n",
       "      <th>Poor Shape</th>\n",
       "      <td>1</td>\n",
       "      <td>1</td>\n",
       "      <td>0</td>\n",
       "      <td>2</td>\n",
       "    </tr>\n",
       "    <tr>\n",
       "      <th>All</th>\n",
       "      <td>80</td>\n",
       "      <td>60</td>\n",
       "      <td>40</td>\n",
       "      <td>180</td>\n",
       "    </tr>\n",
       "  </tbody>\n",
       "</table>\n",
       "</div>"
      ],
      "text/plain": [
       "Product           KP281  KP481  KP781  All\n",
       "Fitness_category                          \n",
       "Average Shape        54     39      4   97\n",
       "Bad Shape            14     12      0   26\n",
       "Excellent Shape       2      0     29   31\n",
       "Good Shape            9      8      7   24\n",
       "Poor Shape            1      1      0    2\n",
       "All                  80     60     40  180"
      ]
     },
     "execution_count": 94,
     "metadata": {},
     "output_type": "execute_result"
    }
   ],
   "source": [
    "pd.crosstab(df['Fitness_category'], df['Product'], margins=True)"
   ]
  },
  {
   "cell_type": "code",
   "execution_count": 95,
   "id": "d0abb6b4",
   "metadata": {},
   "outputs": [
    {
     "data": {
      "text/html": [
       "<div>\n",
       "<style scoped>\n",
       "    .dataframe tbody tr th:only-of-type {\n",
       "        vertical-align: middle;\n",
       "    }\n",
       "\n",
       "    .dataframe tbody tr th {\n",
       "        vertical-align: top;\n",
       "    }\n",
       "\n",
       "    .dataframe thead th {\n",
       "        text-align: right;\n",
       "    }\n",
       "</style>\n",
       "<table border=\"1\" class=\"dataframe\">\n",
       "  <thead>\n",
       "    <tr style=\"text-align: right;\">\n",
       "      <th>Product</th>\n",
       "      <th>KP281</th>\n",
       "      <th>KP481</th>\n",
       "      <th>KP781</th>\n",
       "    </tr>\n",
       "    <tr>\n",
       "      <th>Fitness_category</th>\n",
       "      <th></th>\n",
       "      <th></th>\n",
       "      <th></th>\n",
       "    </tr>\n",
       "  </thead>\n",
       "  <tbody>\n",
       "    <tr>\n",
       "      <th>Average Shape</th>\n",
       "      <td>67.50</td>\n",
       "      <td>65.000000</td>\n",
       "      <td>10.0</td>\n",
       "    </tr>\n",
       "    <tr>\n",
       "      <th>Bad Shape</th>\n",
       "      <td>17.50</td>\n",
       "      <td>20.000000</td>\n",
       "      <td>0.0</td>\n",
       "    </tr>\n",
       "    <tr>\n",
       "      <th>Excellent Shape</th>\n",
       "      <td>2.50</td>\n",
       "      <td>0.000000</td>\n",
       "      <td>72.5</td>\n",
       "    </tr>\n",
       "    <tr>\n",
       "      <th>Good Shape</th>\n",
       "      <td>11.25</td>\n",
       "      <td>13.333333</td>\n",
       "      <td>17.5</td>\n",
       "    </tr>\n",
       "    <tr>\n",
       "      <th>Poor Shape</th>\n",
       "      <td>1.25</td>\n",
       "      <td>1.666667</td>\n",
       "      <td>0.0</td>\n",
       "    </tr>\n",
       "  </tbody>\n",
       "</table>\n",
       "</div>"
      ],
      "text/plain": [
       "Product           KP281      KP481  KP781\n",
       "Fitness_category                         \n",
       "Average Shape     67.50  65.000000   10.0\n",
       "Bad Shape         17.50  20.000000    0.0\n",
       "Excellent Shape    2.50   0.000000   72.5\n",
       "Good Shape        11.25  13.333333   17.5\n",
       "Poor Shape         1.25   1.666667    0.0"
      ]
     },
     "execution_count": 95,
     "metadata": {},
     "output_type": "execute_result"
    }
   ],
   "source": [
    "pd.crosstab(df['Fitness_category'], df['Product'], normalize='columns')*100"
   ]
  },
  {
   "cell_type": "code",
   "execution_count": 96,
   "id": "681fed7a",
   "metadata": {},
   "outputs": [
    {
     "data": {
      "image/png": "[encoded data removed]",
      "text/plain": [
       "<Figure size 432x288 with 1 Axes>"
      ]
     },
     "metadata": {},
     "output_type": "display_data"
    }
   ],
   "source": [
    "pd.crosstab(df['Fitness_category'], df['Product']).plot(kind=\"bar\", stacked=False, rot=45)\n",
    "plt.title(\"Education based product distribution\")\n",
    "plt.legend()\n",
    "plt.show()"
   ]
  },
  {
   "cell_type": "markdown",
   "id": "f290f640",
   "metadata": {},
   "source": [
    "##### Observation:\n",
    "* if the person is in excellent shape , the probabiliy that he is using KP781 is more than 70%.\n"
   ]
  },
  {
   "cell_type": "code",
   "execution_count": null,
   "id": "999ee9b0",
   "metadata": {},
   "outputs": [],
   "source": []
  },
  {
   "cell_type": "markdown",
   "id": "86ae8dc5",
   "metadata": {},
   "source": [
    "### Gender wise Miles per use"
   ]
  },
  {
   "cell_type": "code",
   "execution_count": 97,
   "id": "c9d97775",
   "metadata": {
    "scrolled": true
   },
   "outputs": [
    {
     "data": {
      "image/png": "[encoded data removed]",
      "text/plain": [
       "<Figure size 436.35x360 with 1 Axes>"
      ]
     },
     "metadata": {},
     "output_type": "display_data"
    }
   ],
   "source": [
    "sns.catplot(x= \"Product\", y = \"Miles per 1 use\",hue=\"Gender\" ,kind = \"box\", data=df, )\n",
    "plt.show()"
   ]
  },
  {
   "cell_type": "markdown",
   "id": "3f9dc942",
   "metadata": {},
   "source": [
    "##### Observation:\n",
    "* Female Customers who are running average 40 miles/usage (extensive exercise) , are using product KP781, which is higher than Male average using same product.\n",
    "* KP781 can be recommended for Female customers who exercises extensively.\n",
    "* Males customers who are running average of 28 miles/usage (average exercise) , are using product KP281 .\n",
    "* Males customers who are running average of 32 miles/usage (average exercise) , are using product KP481 . and for female average running for same product is 28 miles/usage.\n"
   ]
  },
  {
   "cell_type": "markdown",
   "id": "9523acfd",
   "metadata": {},
   "source": [
    "### Ftiness category analysis"
   ]
  },
  {
   "cell_type": "code",
   "execution_count": 98,
   "id": "86331c4a",
   "metadata": {},
   "outputs": [
    {
     "data": {
      "text/html": [
       "<div>\n",
       "<style scoped>\n",
       "    .dataframe tbody tr th:only-of-type {\n",
       "        vertical-align: middle;\n",
       "    }\n",
       "\n",
       "    .dataframe tbody tr th {\n",
       "        vertical-align: top;\n",
       "    }\n",
       "\n",
       "    .dataframe thead th {\n",
       "        text-align: right;\n",
       "    }\n",
       "</style>\n",
       "<table border=\"1\" class=\"dataframe\">\n",
       "  <thead>\n",
       "    <tr style=\"text-align: right;\">\n",
       "      <th></th>\n",
       "      <th>Gender</th>\n",
       "      <th>Female</th>\n",
       "      <th>Male</th>\n",
       "    </tr>\n",
       "    <tr>\n",
       "      <th>Product</th>\n",
       "      <th>Fitness_category</th>\n",
       "      <th></th>\n",
       "      <th></th>\n",
       "    </tr>\n",
       "  </thead>\n",
       "  <tbody>\n",
       "    <tr>\n",
       "      <th rowspan=\"5\" valign=\"top\">KP281</th>\n",
       "      <th>Average Shape</th>\n",
       "      <td>26</td>\n",
       "      <td>28</td>\n",
       "    </tr>\n",
       "    <tr>\n",
       "      <th>Bad Shape</th>\n",
       "      <td>10</td>\n",
       "      <td>4</td>\n",
       "    </tr>\n",
       "    <tr>\n",
       "      <th>Excellent Shape</th>\n",
       "      <td>1</td>\n",
       "      <td>1</td>\n",
       "    </tr>\n",
       "    <tr>\n",
       "      <th>Good Shape</th>\n",
       "      <td>3</td>\n",
       "      <td>6</td>\n",
       "    </tr>\n",
       "    <tr>\n",
       "      <th>Poor Shape</th>\n",
       "      <td>0</td>\n",
       "      <td>1</td>\n",
       "    </tr>\n",
       "    <tr>\n",
       "      <th rowspan=\"4\" valign=\"top\">KP481</th>\n",
       "      <th>Average Shape</th>\n",
       "      <td>18</td>\n",
       "      <td>21</td>\n",
       "    </tr>\n",
       "    <tr>\n",
       "      <th>Bad Shape</th>\n",
       "      <td>6</td>\n",
       "      <td>6</td>\n",
       "    </tr>\n",
       "    <tr>\n",
       "      <th>Good Shape</th>\n",
       "      <td>4</td>\n",
       "      <td>4</td>\n",
       "    </tr>\n",
       "    <tr>\n",
       "      <th>Poor Shape</th>\n",
       "      <td>1</td>\n",
       "      <td>0</td>\n",
       "    </tr>\n",
       "    <tr>\n",
       "      <th rowspan=\"3\" valign=\"top\">KP781</th>\n",
       "      <th>Average Shape</th>\n",
       "      <td>1</td>\n",
       "      <td>3</td>\n",
       "    </tr>\n",
       "    <tr>\n",
       "      <th>Excellent Shape</th>\n",
       "      <td>5</td>\n",
       "      <td>24</td>\n",
       "    </tr>\n",
       "    <tr>\n",
       "      <th>Good Shape</th>\n",
       "      <td>1</td>\n",
       "      <td>6</td>\n",
       "    </tr>\n",
       "  </tbody>\n",
       "</table>\n",
       "</div>"
      ],
      "text/plain": [
       "Gender                    Female  Male\n",
       "Product Fitness_category              \n",
       "KP281   Average Shape         26    28\n",
       "        Bad Shape             10     4\n",
       "        Excellent Shape        1     1\n",
       "        Good Shape             3     6\n",
       "        Poor Shape             0     1\n",
       "KP481   Average Shape         18    21\n",
       "        Bad Shape              6     6\n",
       "        Good Shape             4     4\n",
       "        Poor Shape             1     0\n",
       "KP781   Average Shape          1     3\n",
       "        Excellent Shape        5    24\n",
       "        Good Shape             1     6"
      ]
     },
     "execution_count": 98,
     "metadata": {},
     "output_type": "execute_result"
    }
   ],
   "source": [
    "pd.crosstab(index=[df[\"Product\"],df[\"Fitness_category\"]],columns=df[\"Gender\"])\n"
   ]
  },
  {
   "cell_type": "code",
   "execution_count": null,
   "id": "941c03f3",
   "metadata": {},
   "outputs": [],
   "source": []
  },
  {
   "cell_type": "code",
   "execution_count": 99,
   "id": "99045c05",
   "metadata": {
    "scrolled": false
   },
   "outputs": [
    {
     "data": {
      "text/plain": [
       "Excellent Shape    9\n",
       "Average Shape      7\n",
       "Good Shape         3\n",
       "Name: Fitness_category, dtype: int64"
      ]
     },
     "execution_count": 99,
     "metadata": {},
     "output_type": "execute_result"
    }
   ],
   "source": [
    "df[df['Miles per 1 use']>40]['Fitness_category'].value_counts()"
   ]
  },
  {
   "cell_type": "code",
   "execution_count": 100,
   "id": "ade8a244",
   "metadata": {},
   "outputs": [
    {
     "data": {
      "text/plain": [
       "Excellent Shape    7\n",
       "Average Shape      2\n",
       "Name: Fitness_category, dtype: int64"
      ]
     },
     "execution_count": 100,
     "metadata": {},
     "output_type": "execute_result"
    }
   ],
   "source": [
    "df[df['Miles per 1 use']>np.percentile(df['Miles per 1 use'],95)]['Fitness_category'].value_counts()"
   ]
  },
  {
   "cell_type": "code",
   "execution_count": 101,
   "id": "216ad192",
   "metadata": {
    "scrolled": true
   },
   "outputs": [
    {
     "data": {
      "text/html": [
       "<div>\n",
       "<style scoped>\n",
       "    .dataframe tbody tr th:only-of-type {\n",
       "        vertical-align: middle;\n",
       "    }\n",
       "\n",
       "    .dataframe tbody tr th {\n",
       "        vertical-align: top;\n",
       "    }\n",
       "\n",
       "    .dataframe thead th {\n",
       "        text-align: right;\n",
       "    }\n",
       "</style>\n",
       "<table border=\"1\" class=\"dataframe\">\n",
       "  <thead>\n",
       "    <tr style=\"text-align: right;\">\n",
       "      <th></th>\n",
       "      <th>Fitness</th>\n",
       "      <th>1</th>\n",
       "      <th>2</th>\n",
       "      <th>3</th>\n",
       "      <th>4</th>\n",
       "      <th>5</th>\n",
       "      <th>All</th>\n",
       "    </tr>\n",
       "    <tr>\n",
       "      <th>Product</th>\n",
       "      <th>Gender</th>\n",
       "      <th></th>\n",
       "      <th></th>\n",
       "      <th></th>\n",
       "      <th></th>\n",
       "      <th></th>\n",
       "      <th></th>\n",
       "    </tr>\n",
       "  </thead>\n",
       "  <tbody>\n",
       "    <tr>\n",
       "      <th rowspan=\"2\" valign=\"top\">KP281</th>\n",
       "      <th>Female</th>\n",
       "      <td>0</td>\n",
       "      <td>10</td>\n",
       "      <td>26</td>\n",
       "      <td>3</td>\n",
       "      <td>1</td>\n",
       "      <td>40</td>\n",
       "    </tr>\n",
       "    <tr>\n",
       "      <th>Male</th>\n",
       "      <td>1</td>\n",
       "      <td>4</td>\n",
       "      <td>28</td>\n",
       "      <td>6</td>\n",
       "      <td>1</td>\n",
       "      <td>40</td>\n",
       "    </tr>\n",
       "    <tr>\n",
       "      <th rowspan=\"2\" valign=\"top\">KP481</th>\n",
       "      <th>Female</th>\n",
       "      <td>1</td>\n",
       "      <td>6</td>\n",
       "      <td>18</td>\n",
       "      <td>4</td>\n",
       "      <td>0</td>\n",
       "      <td>29</td>\n",
       "    </tr>\n",
       "    <tr>\n",
       "      <th>Male</th>\n",
       "      <td>0</td>\n",
       "      <td>6</td>\n",
       "      <td>21</td>\n",
       "      <td>4</td>\n",
       "      <td>0</td>\n",
       "      <td>31</td>\n",
       "    </tr>\n",
       "    <tr>\n",
       "      <th rowspan=\"2\" valign=\"top\">KP781</th>\n",
       "      <th>Female</th>\n",
       "      <td>0</td>\n",
       "      <td>0</td>\n",
       "      <td>1</td>\n",
       "      <td>1</td>\n",
       "      <td>5</td>\n",
       "      <td>7</td>\n",
       "    </tr>\n",
       "    <tr>\n",
       "      <th>Male</th>\n",
       "      <td>0</td>\n",
       "      <td>0</td>\n",
       "      <td>3</td>\n",
       "      <td>6</td>\n",
       "      <td>24</td>\n",
       "      <td>33</td>\n",
       "    </tr>\n",
       "    <tr>\n",
       "      <th>All</th>\n",
       "      <th></th>\n",
       "      <td>2</td>\n",
       "      <td>26</td>\n",
       "      <td>97</td>\n",
       "      <td>24</td>\n",
       "      <td>31</td>\n",
       "      <td>180</td>\n",
       "    </tr>\n",
       "  </tbody>\n",
       "</table>\n",
       "</div>"
      ],
      "text/plain": [
       "Fitness         1   2   3   4   5  All\n",
       "Product Gender                        \n",
       "KP281   Female  0  10  26   3   1   40\n",
       "        Male    1   4  28   6   1   40\n",
       "KP481   Female  1   6  18   4   0   29\n",
       "        Male    0   6  21   4   0   31\n",
       "KP781   Female  0   0   1   1   5    7\n",
       "        Male    0   0   3   6  24   33\n",
       "All             2  26  97  24  31  180"
      ]
     },
     "execution_count": 101,
     "metadata": {},
     "output_type": "execute_result"
    }
   ],
   "source": [
    "pd.crosstab([df[\"Product\"],df[\"Gender\"]],df[\"Fitness\"],margins=True)"
   ]
  },
  {
   "cell_type": "code",
   "execution_count": null,
   "id": "3f3cbeef",
   "metadata": {},
   "outputs": [],
   "source": []
  },
  {
   "cell_type": "markdown",
   "id": "8d456b59",
   "metadata": {},
   "source": [
    "##### Observation:\n",
    "* Mejority of customers who are in Excellent shape, uses KP781\n",
    "* Mejority of customers who are in Average shape, uses KP281\n",
    "* combined fitness level of Male and Female customers who uses KP281 is equal.\n",
    "* Mles customers who uses KP781 is the second highest group of people in fitness category."
   ]
  },
  {
   "cell_type": "code",
   "execution_count": null,
   "id": "ce2f46fc",
   "metadata": {},
   "outputs": [],
   "source": []
  },
  {
   "cell_type": "markdown",
   "id": "5039d75e",
   "metadata": {},
   "source": [
    "### Miles based Product distribution"
   ]
  },
  {
   "cell_type": "code",
   "execution_count": 102,
   "id": "9a2a65fe",
   "metadata": {
    "scrolled": false
   },
   "outputs": [
    {
     "data": {
      "image/png": "[encoded data removed]",
      "text/plain": [
       "<Figure size 432.85x360 with 1 Axes>"
      ]
     },
     "metadata": {},
     "output_type": "display_data"
    }
   ],
   "source": [
    "sns.catplot(x= \"Fitness_category\", y = \"Miles\" ,kind = \"box\",hue=\"Product\", data= df.sort_values(by=\"Fitness\"))\n",
    "plt.xticks(rotation = 90)\n",
    "plt.title(\"Miles based Product Distribution\",fontdict ={\"fontsize\": 17})\n",
    "plt.show()\n"
   ]
  },
  {
   "cell_type": "markdown",
   "id": "54a7402a",
   "metadata": {},
   "source": [
    "##### Observation:\n",
    "* People who run/walk more miles(>130) , are more likely to use KP781 product.\n",
    "* People who walk/run around 60 to 130 miles are more likely to use KP281 and KP481 products."
   ]
  },
  {
   "cell_type": "code",
   "execution_count": null,
   "id": "b98a523b",
   "metadata": {},
   "outputs": [],
   "source": []
  },
  {
   "cell_type": "markdown",
   "id": "be237df3",
   "metadata": {},
   "source": [
    "### correlations between all features"
   ]
  },
  {
   "cell_type": "code",
   "execution_count": 103,
   "id": "0c3654d5",
   "metadata": {},
   "outputs": [
    {
     "data": {
      "text/html": [
       "<div>\n",
       "<style scoped>\n",
       "    .dataframe tbody tr th:only-of-type {\n",
       "        vertical-align: middle;\n",
       "    }\n",
       "\n",
       "    .dataframe tbody tr th {\n",
       "        vertical-align: top;\n",
       "    }\n",
       "\n",
       "    .dataframe thead th {\n",
       "        text-align: right;\n",
       "    }\n",
       "</style>\n",
       "<table border=\"1\" class=\"dataframe\">\n",
       "  <thead>\n",
       "    <tr style=\"text-align: right;\">\n",
       "      <th></th>\n",
       "      <th>Age</th>\n",
       "      <th>Education</th>\n",
       "      <th>Usage</th>\n",
       "      <th>Fitness</th>\n",
       "      <th>Income</th>\n",
       "      <th>Miles</th>\n",
       "      <th>Product_price</th>\n",
       "      <th>Miles per 1 use</th>\n",
       "    </tr>\n",
       "  </thead>\n",
       "  <tbody>\n",
       "    <tr>\n",
       "      <th>Age</th>\n",
       "      <td>1.000000</td>\n",
       "      <td>0.280496</td>\n",
       "      <td>0.015064</td>\n",
       "      <td>0.061105</td>\n",
       "      <td>0.513414</td>\n",
       "      <td>0.036618</td>\n",
       "      <td>0.029263</td>\n",
       "      <td>0.012678</td>\n",
       "    </tr>\n",
       "    <tr>\n",
       "      <th>Education</th>\n",
       "      <td>0.280496</td>\n",
       "      <td>1.000000</td>\n",
       "      <td>0.395155</td>\n",
       "      <td>0.410581</td>\n",
       "      <td>0.625827</td>\n",
       "      <td>0.307284</td>\n",
       "      <td>0.563463</td>\n",
       "      <td>0.069552</td>\n",
       "    </tr>\n",
       "    <tr>\n",
       "      <th>Usage</th>\n",
       "      <td>0.015064</td>\n",
       "      <td>0.395155</td>\n",
       "      <td>1.000000</td>\n",
       "      <td>0.668606</td>\n",
       "      <td>0.519537</td>\n",
       "      <td>0.759130</td>\n",
       "      <td>0.623124</td>\n",
       "      <td>0.156523</td>\n",
       "    </tr>\n",
       "    <tr>\n",
       "      <th>Fitness</th>\n",
       "      <td>0.061105</td>\n",
       "      <td>0.410581</td>\n",
       "      <td>0.668606</td>\n",
       "      <td>1.000000</td>\n",
       "      <td>0.535005</td>\n",
       "      <td>0.785702</td>\n",
       "      <td>0.696616</td>\n",
       "      <td>0.557926</td>\n",
       "    </tr>\n",
       "    <tr>\n",
       "      <th>Income</th>\n",
       "      <td>0.513414</td>\n",
       "      <td>0.625827</td>\n",
       "      <td>0.519537</td>\n",
       "      <td>0.535005</td>\n",
       "      <td>1.000000</td>\n",
       "      <td>0.543473</td>\n",
       "      <td>0.695847</td>\n",
       "      <td>0.267164</td>\n",
       "    </tr>\n",
       "    <tr>\n",
       "      <th>Miles</th>\n",
       "      <td>0.036618</td>\n",
       "      <td>0.307284</td>\n",
       "      <td>0.759130</td>\n",
       "      <td>0.785702</td>\n",
       "      <td>0.543473</td>\n",
       "      <td>1.000000</td>\n",
       "      <td>0.643923</td>\n",
       "      <td>0.734778</td>\n",
       "    </tr>\n",
       "    <tr>\n",
       "      <th>Product_price</th>\n",
       "      <td>0.029263</td>\n",
       "      <td>0.563463</td>\n",
       "      <td>0.623124</td>\n",
       "      <td>0.696616</td>\n",
       "      <td>0.695847</td>\n",
       "      <td>0.643923</td>\n",
       "      <td>1.000000</td>\n",
       "      <td>0.337825</td>\n",
       "    </tr>\n",
       "    <tr>\n",
       "      <th>Miles per 1 use</th>\n",
       "      <td>0.012678</td>\n",
       "      <td>0.069552</td>\n",
       "      <td>0.156523</td>\n",
       "      <td>0.557926</td>\n",
       "      <td>0.267164</td>\n",
       "      <td>0.734778</td>\n",
       "      <td>0.337825</td>\n",
       "      <td>1.000000</td>\n",
       "    </tr>\n",
       "  </tbody>\n",
       "</table>\n",
       "</div>"
      ],
      "text/plain": [
       "                      Age  Education     Usage   Fitness    Income     Miles  Product_price  Miles per 1 use\n",
       "Age              1.000000   0.280496  0.015064  0.061105  0.513414  0.036618       0.029263         0.012678\n",
       "Education        0.280496   1.000000  0.395155  0.410581  0.625827  0.307284       0.563463         0.069552\n",
       "Usage            0.015064   0.395155  1.000000  0.668606  0.519537  0.759130       0.623124         0.156523\n",
       "Fitness          0.061105   0.410581  0.668606  1.000000  0.535005  0.785702       0.696616         0.557926\n",
       "Income           0.513414   0.625827  0.519537  0.535005  1.000000  0.543473       0.695847         0.267164\n",
       "Miles            0.036618   0.307284  0.759130  0.785702  0.543473  1.000000       0.643923         0.734778\n",
       "Product_price    0.029263   0.563463  0.623124  0.696616  0.695847  0.643923       1.000000         0.337825\n",
       "Miles per 1 use  0.012678   0.069552  0.156523  0.557926  0.267164  0.734778       0.337825         1.000000"
      ]
     },
     "execution_count": 103,
     "metadata": {},
     "output_type": "execute_result"
    }
   ],
   "source": [
    "df.corr()"
   ]
  },
  {
   "cell_type": "code",
   "execution_count": 104,
   "id": "64f06398",
   "metadata": {
    "scrolled": false
   },
   "outputs": [
    {
     "data": {
      "image/png": "[encoded data removed]",
      "text/plain": [
       "<Figure size 1152x648 with 2 Axes>"
      ]
     },
     "metadata": {},
     "output_type": "display_data"
    }
   ],
   "source": [
    "plt.figure(figsize=(16,9))\n",
    "sns.heatmap(df.corr(),annot=True)\n",
    "plt.show()"
   ]
  },
  {
   "cell_type": "markdown",
   "id": "47ce7223",
   "metadata": {},
   "source": [
    "#### correlation : >0.6"
   ]
  },
  {
   "cell_type": "code",
   "execution_count": 105,
   "id": "9c5c10f0",
   "metadata": {},
   "outputs": [
    {
     "name": "stdout",
     "output_type": "stream",
     "text": [
      "Usage            Fitness            0.668606\n",
      "                 Miles              0.759130\n",
      "Fitness          Usage              0.668606\n",
      "                 Miles              0.785702\n",
      "                 Product_price      0.696616\n",
      "Income           Product_price      0.695847\n",
      "Miles            Usage              0.759130\n",
      "                 Fitness            0.785702\n",
      "                 Miles per 1 use    0.734778\n",
      "Product_price    Fitness            0.696616\n",
      "                 Income             0.695847\n",
      "Miles per 1 use  Miles              0.734778\n",
      "dtype: float64\n"
     ]
    }
   ],
   "source": [
    "print(df.corr().unstack()[(df.corr().unstack()>0.65) & (df.corr().unstack()!=1)])"
   ]
  },
  {
   "cell_type": "markdown",
   "id": "2679508f",
   "metadata": {},
   "source": [
    "##### Observation:\n",
    "\n",
    "* Fitness and Miles have a positive and a very high correlation: 0.79\n",
    "* Product price and Income have a positive and a very high correlation: 0.7"
   ]
  },
  {
   "cell_type": "code",
   "execution_count": null,
   "id": "50be3824",
   "metadata": {},
   "outputs": [],
   "source": []
  },
  {
   "cell_type": "code",
   "execution_count": 106,
   "id": "245a1e61",
   "metadata": {},
   "outputs": [
    {
     "data": {
      "text/html": [
       "<div>\n",
       "<style scoped>\n",
       "    .dataframe tbody tr th:only-of-type {\n",
       "        vertical-align: middle;\n",
       "    }\n",
       "\n",
       "    .dataframe tbody tr th {\n",
       "        vertical-align: top;\n",
       "    }\n",
       "\n",
       "    .dataframe thead th {\n",
       "        text-align: right;\n",
       "    }\n",
       "</style>\n",
       "<table border=\"1\" class=\"dataframe\">\n",
       "  <thead>\n",
       "    <tr style=\"text-align: right;\">\n",
       "      <th></th>\n",
       "      <th>Product</th>\n",
       "      <th>Age</th>\n",
       "      <th>Gender</th>\n",
       "      <th>Education</th>\n",
       "      <th>MaritalStatus</th>\n",
       "      <th>Usage</th>\n",
       "      <th>Fitness</th>\n",
       "      <th>Income</th>\n",
       "      <th>Miles</th>\n",
       "      <th>Product_price</th>\n",
       "      <th>Fitness_category</th>\n",
       "      <th>Miles per 1 use</th>\n",
       "    </tr>\n",
       "  </thead>\n",
       "  <tbody>\n",
       "    <tr>\n",
       "      <th>0</th>\n",
       "      <td>KP281</td>\n",
       "      <td>18</td>\n",
       "      <td>Male</td>\n",
       "      <td>14</td>\n",
       "      <td>Single</td>\n",
       "      <td>3</td>\n",
       "      <td>4</td>\n",
       "      <td>29562</td>\n",
       "      <td>112</td>\n",
       "      <td>1500</td>\n",
       "      <td>Good Shape</td>\n",
       "      <td>37.333333</td>\n",
       "    </tr>\n",
       "    <tr>\n",
       "      <th>1</th>\n",
       "      <td>KP281</td>\n",
       "      <td>19</td>\n",
       "      <td>Male</td>\n",
       "      <td>15</td>\n",
       "      <td>Single</td>\n",
       "      <td>2</td>\n",
       "      <td>3</td>\n",
       "      <td>31836</td>\n",
       "      <td>75</td>\n",
       "      <td>1500</td>\n",
       "      <td>Average Shape</td>\n",
       "      <td>37.500000</td>\n",
       "    </tr>\n",
       "    <tr>\n",
       "      <th>2</th>\n",
       "      <td>KP281</td>\n",
       "      <td>19</td>\n",
       "      <td>Female</td>\n",
       "      <td>14</td>\n",
       "      <td>Partnered</td>\n",
       "      <td>4</td>\n",
       "      <td>3</td>\n",
       "      <td>30699</td>\n",
       "      <td>66</td>\n",
       "      <td>1500</td>\n",
       "      <td>Average Shape</td>\n",
       "      <td>16.500000</td>\n",
       "    </tr>\n",
       "    <tr>\n",
       "      <th>3</th>\n",
       "      <td>KP281</td>\n",
       "      <td>19</td>\n",
       "      <td>Male</td>\n",
       "      <td>12</td>\n",
       "      <td>Single</td>\n",
       "      <td>3</td>\n",
       "      <td>3</td>\n",
       "      <td>32973</td>\n",
       "      <td>85</td>\n",
       "      <td>1500</td>\n",
       "      <td>Average Shape</td>\n",
       "      <td>28.333333</td>\n",
       "    </tr>\n",
       "    <tr>\n",
       "      <th>4</th>\n",
       "      <td>KP281</td>\n",
       "      <td>20</td>\n",
       "      <td>Male</td>\n",
       "      <td>13</td>\n",
       "      <td>Partnered</td>\n",
       "      <td>4</td>\n",
       "      <td>2</td>\n",
       "      <td>35247</td>\n",
       "      <td>47</td>\n",
       "      <td>1500</td>\n",
       "      <td>Bad Shape</td>\n",
       "      <td>11.750000</td>\n",
       "    </tr>\n",
       "  </tbody>\n",
       "</table>\n",
       "</div>"
      ],
      "text/plain": [
       "  Product  Age  Gender  Education MaritalStatus  Usage  Fitness  Income  Miles  Product_price Fitness_category  Miles per 1 use\n",
       "0   KP281   18    Male         14        Single      3        4   29562    112           1500       Good Shape        37.333333\n",
       "1   KP281   19    Male         15        Single      2        3   31836     75           1500    Average Shape        37.500000\n",
       "2   KP281   19  Female         14     Partnered      4        3   30699     66           1500    Average Shape        16.500000\n",
       "3   KP281   19    Male         12        Single      3        3   32973     85           1500    Average Shape        28.333333\n",
       "4   KP281   20    Male         13     Partnered      4        2   35247     47           1500        Bad Shape        11.750000"
      ]
     },
     "execution_count": 106,
     "metadata": {},
     "output_type": "execute_result"
    }
   ],
   "source": [
    "df.head()"
   ]
  },
  {
   "cell_type": "code",
   "execution_count": null,
   "id": "343c2eb4",
   "metadata": {},
   "outputs": [],
   "source": [
    "d = df[[\"Age\",\"Education\",\"Fitness\",\"Income\",\"Miles\",\"Gender\"]]\n",
    "\n",
    "x = sns.pairplot(d, kind = \"reg\", hue=\"Gender\")\n",
    "x.map_diag(sns.kdeplot)\n",
    "plt.show()\n"
   ]
  },
  {
   "cell_type": "code",
   "execution_count": null,
   "id": "cfd73e16",
   "metadata": {},
   "outputs": [],
   "source": []
  },
  {
   "cell_type": "code",
   "execution_count": null,
   "id": "7b3d5bc2",
   "metadata": {},
   "outputs": [],
   "source": []
  },
  {
   "cell_type": "markdown",
   "id": "24bd5248",
   "metadata": {},
   "source": [
    "\"\"\"\n",
    "### From observations 1 to 12, we can make a customer profile for particular products:\n",
    "\n",
    "#### KP281 : \n",
    "* Most affordable and entry level and Maximum Selling Product. \n",
    "* This model popular amongst both Male and Female customers \n",
    "* Same number of Male and Female customers. \n",
    "* Customers walk/run average 70 to 90 miles on this product. \n",
    "* Customers use 3 to 4 times a week \n",
    "* Fitness Level of this product users is Average Shape. \n",
    "* More general purpose for all age group and fitness levels.\n",
    "#### KP481 : \n",
    "* Intermediate Price Range \n",
    "* Fitness Level of this product users varies from Bad to Average Shape depending on their usage. \n",
    "* Customers prefer KP481 model to use less frequent but to run more miles per week on this. \n",
    "* Customer walk/run average 70 to 130 or more miles per week on his product. \n",
    "* has higher probability of selling for female customers. \n",
    "* Probability of Female customer buying KP481 is significantly higher than male. \n",
    "* KP481 product is specifically recommended for Female customers who are intermediate user. \n",
    "* customers are from adult, teen and mid-age categories.\n",
    "#### KP781 : \n",
    "* least sold product. \n",
    "* high price and preferred by customers who does exercises more extensively and run more miles. \n",
    "* Customer walk/run average 120 to 200 or more miles per week on his product. \n",
    "* Customers use 4 to 5 times a week at least. \n",
    "* If person is in Excellent Shape , the probability that he is using KP781 is more than 90%. \n",
    "* Female Customers who are running average 180 miles (extensive exercise) , are using product KP781, which is higher than Male average using same product. \n",
    "* KP781 can be recommended for Female customers who exercises extensively. \n",
    "* Probability of Male customer buying Product KP781(31.73%) is way more than female(9.21%). \n",
    "* Probability of a single person buying KP781 is higher than Married customers. So , KP781 is also recommended for people who are single and exercises more. \n",
    "* most of old people who are above 45 age and adult uses this product.\n",
    "\n",
    "## Recommendations : \n",
    "* Recommend KP781 product to users who exercises/run more frequently and run more and more miles , and have high income. Since Kp781 is least selling product (22.2% share of all the products) , recommend this product some customers who exercise at intermediate to extensive level , if they are planning to go for KP481. Also the targeted Age Category is Adult and age above 45. \n",
    "* Recommend KP481 product specifically for female customers who run/walk more miles , as data shows their probability is higher. Statistical Summery about fitness level and miles for KP481 is not good as KP281 which is cheaper product. Possibly because of price, customers prefer to purchase KP281. It is recommended to make some necessary changes to product K481 to increase customer experience. \n",
    "\"\"\""
   ]
  },
  {
   "cell_type": "code",
   "execution_count": null,
   "id": "0e7ad31d",
   "metadata": {},
   "outputs": [],
   "source": []
  },
  {
   "cell_type": "code",
   "execution_count": null,
   "id": "35344cf2",
   "metadata": {},
   "outputs": [],
   "source": []
  }
 ],
 "metadata": {
  "kernelspec": {
   "display_name": "Python 3 (ipykernel)",
   "language": "python",
   "name": "python3"
  },
  "language_info": {
   "codemirror_mode": {
    "name": "ipython",
    "version": 3
   },
   "file_extension": ".py",
   "mimetype": "text/x-python",
   "name": "python",
   "nbconvert_exporter": "python",
   "pygments_lexer": "ipython3",
   "version": "3.9.7"
  }
 },
 "nbformat": 4,
 "nbformat_minor": 5
}
